{
 "cells": [
  {
   "cell_type": "code",
   "execution_count": 3,
   "metadata": {},
   "outputs": [],
   "source": [
    "# Import all of the required modules to run the notebook \n",
    "\n",
    "from pprint import pprint\n",
    "import numpy as np\n",
    "from matplotlib import pyplot as plt\n",
    "from astropy import units as u\n",
    "from datetime import datetime\n",
    "\n",
    "from sunpy.net import Fido, attrs as a\n",
    "from sunpy.timeseries import TimeSeries\n",
    "\n",
    "from stixpy.timeseries import quicklook # This registers the STIX timeseries with sunpy\n",
    "from stixpy.net.client import STIXClient  # This registers the STIX client with Fido\n",
    "from stixdcpy import auxiliary as aux\n",
    "from stixpy.product import Product"
   ]
  },
  {
   "cell_type": "code",
   "execution_count": null,
   "metadata": {},
   "outputs": [],
   "source": [
    "# The vast majority of the work in this notebook follows procedures further explained explained on \n",
    "# https://stixpy.readthedocs.io/en/latest/tutorials/quickstart.html\n",
    "# This webpage should help with the excercises. "
   ]
  },
  {
   "cell_type": "code",
   "execution_count": 34,
   "metadata": {},
   "outputs": [],
   "source": [
    "# Use the stixdcpy package to access Solar Orbiter Emphemeris data which can be used to plot the spacecraft position \n",
    "# relative to the Earth and the Sun.  \n",
    "emph=aux.Ephemeris.from_sdc(start_utc='2020-02-10T00:00:00', end_utc='2025-04-15T01:00:00', steps=100)"
   ]
  },
  {
   "cell_type": "code",
   "execution_count": null,
   "metadata": {},
   "outputs": [],
   "source": [
    "# Use the automatic plotting function to plot the relative positions of Solar Orbiter, the Sun and Earth. \n",
    "# This is in the Heliocentric Earth ecliptic reference frame which explains why the tracked position does not appear at\n",
    "# all physical. \n",
    "emph.peek()"
   ]
  },
  {
   "cell_type": "code",
   "execution_count": null,
   "metadata": {},
   "outputs": [],
   "source": [
    "# 1. Use the method shown above the generate plots showing the location of Solar Orbiter for the following dates:\n",
    "# 19th of March 2024 \n",
    "# 10th of July 2023 \n"
   ]
  },
  {
   "cell_type": "code",
   "execution_count": null,
   "metadata": {},
   "outputs": [],
   "source": [
    "# Here we will take a look at the quicklook data for the dates shown above and see if there are any interesting looking\n",
    "# flares in the datasets. We will then focus on the 10th of July 2023, to download the science data, look at the \n",
    "# lightcurves and create some spectra which we will also background subtract. This will give insights into how the \n",
    "# spectra change over the course of a solar flare. This can help us to understand the physical processes that are \n",
    "# driving the flare process. "
   ]
  },
  {
   "cell_type": "code",
   "execution_count": null,
   "metadata": {},
   "outputs": [],
   "source": [
    "# 2. Use the example below to take a look at the quicklook data for 19th of March 2024 and try to zoom in on the\n",
    "# interesting looking time ranges. \n",
    "\n",
    "ql_query = Fido.search(a.Time('2024-03-19T00:00:00', '2024-03-19T23:59:00',), a.Instrument.stix,\n",
    "                    a.stix.DataProduct.ql_lightcurve)\n",
    "\n",
    "ql_query\n",
    "\n"
   ]
  },
  {
   "cell_type": "code",
   "execution_count": null,
   "metadata": {},
   "outputs": [],
   "source": [
    "ql_files = Fido.fetch(ql_query)"
   ]
  },
  {
   "cell_type": "code",
   "execution_count": null,
   "metadata": {},
   "outputs": [],
   "source": [
    "ql_lightcurves = TimeSeries(ql_files)\n",
    "\n",
    "ql_lightcurves.peek()"
   ]
  },
  {
   "cell_type": "code",
   "execution_count": null,
   "metadata": {},
   "outputs": [],
   "source": [
    "# This is an example of an interesting flare, however there are many on this particular day. Zoom in on different\n",
    "# regions using this method and see that the flares can differ drastically in their appearance and evolution. A \n",
    "# response in the higher energy bands represents non-thermal processes. \n",
    "\n",
    "ql_lightcurves.plot()\n",
    "plt.xlim(datetime(2024, 3, 19, 23, 10, 0), datetime(2024, 3, 19, 23, 59, 0))"
   ]
  },
  {
   "cell_type": "code",
   "execution_count": null,
   "metadata": {},
   "outputs": [],
   "source": [
    "# 2. Now repeat this for 10th of July 2023 and try to zoom in on the\n",
    "# interesting looking time ranges. The flare we shall focus on is between 23:00 (10/07/23) and 02:00 (11/07/23)\n",
    "# To look at this flare, as it crosses over a date, you will have to combine two quicklook files. Use the hint below.\n",
    "\n",
    "# combination of files\n",
    "\n",
    "combined_ts = ql_lightcurves[0]\n",
    "for lc in ql_lightcurves[1:]:\n",
    "    combined_ts = combined_ts.concatenate(lc)\n",
    "\n",
    "combined_ts.peek()"
   ]
  },
  {
   "cell_type": "code",
   "execution_count": null,
   "metadata": {},
   "outputs": [],
   "source": [
    "# 3. Insert the correct times for the flare we selected above on 10/07/23.\n",
    "\n",
    "# Now we will download the science data for the interesting event found above for 10th July 2023. Use the code below \n",
    "# to insert a roughly 3 hour time window around the interesting event identified above in the format:\n",
    "# 'yyyy-mm-ddThh:mm:ss'. \n",
    "\n",
    "sci_query = Fido.search(a.Time('yyyy-mm-ddThh:mm:ss', 'yyyy-mm-ddThh:mm:ss'), a.Instrument.stix, a.stix.DataType.sci)\n",
    "sci_query"
   ]
  },
  {
   "cell_type": "code",
   "execution_count": null,
   "metadata": {},
   "outputs": [],
   "source": [
    "# Here I have selected the correct data file from the list of results generated above. \n",
    "\n",
    "sci_query[0][[4]]"
   ]
  },
  {
   "cell_type": "code",
   "execution_count": null,
   "metadata": {},
   "outputs": [],
   "source": [
    "# Download the correct file. \n",
    "\n",
    "sci_files = Fido.fetch(sci_query[0][[4]])"
   ]
  },
  {
   "cell_type": "code",
   "execution_count": null,
   "metadata": {},
   "outputs": [],
   "source": [
    "# We need to convert the file to a Product so that it can be manipulated.\n",
    "\n",
    "spec = Product(sci_files[0])\n",
    "spec"
   ]
  },
  {
   "cell_type": "code",
   "execution_count": null,
   "metadata": {},
   "outputs": [],
   "source": [
    "# https://stixpy.readthedocs.io/en/latest/tutorials/quickstart.html\n",
    "\n",
    "# 4. Check the online documentation of the stixpy python package for three automatic plotting routines, they are all\n",
    "# named plot_... Use these to create quick plots of the data in the science file. The two most important plots will\n",
    "# be the lightcurve plot and the spectrogram plot. "
   ]
  },
  {
   "cell_type": "code",
   "execution_count": null,
   "metadata": {},
   "outputs": [],
   "source": [
    "# quick plot 1"
   ]
  },
  {
   "cell_type": "code",
   "execution_count": null,
   "metadata": {},
   "outputs": [],
   "source": [
    "# quick plot 2"
   ]
  },
  {
   "cell_type": "code",
   "execution_count": null,
   "metadata": {},
   "outputs": [],
   "source": [
    "# quick plot 3"
   ]
  },
  {
   "cell_type": "code",
   "execution_count": null,
   "metadata": {},
   "outputs": [],
   "source": [
    "# Here we extract the full dataset from the science file. \n",
    "# the function get_data() and its properties can be understood more fully by taking a look at the following webpage\n",
    "# https://stixpy.readthedocs.io/en/latest/api/stixpy.product.sources.CompressedPixelData.html\n",
    "\n",
    "counts_sci_full, errors_sci_full, times_sci_full, deltatimes_sci_full, energies_sci_full = spec.get_data()\n",
    "\n",
    "pprint(energies_sci_full)\n"
   ]
  },
  {
   "cell_type": "code",
   "execution_count": null,
   "metadata": {},
   "outputs": [],
   "source": [
    "# 5. Insert the indices to sum between in order to generate lightcurves of differing energy ranges. Try to produce \n",
    "# a plot with three lightcurves, one for 4-10 Kev, 10-15 keV, 15-25 keV and 25-50keV. \n",
    "# Hint: Use the energy bin indices printed above.   \n",
    "\n",
    "spec.plot_timeseries(energy_indices=[[,],[,],[,],[,]])"
   ]
  },
  {
   "cell_type": "code",
   "execution_count": null,
   "metadata": {},
   "outputs": [],
   "source": [
    "# Here we use get_data to extract the data from the science file. You can play around with the different selections for\n",
    "# pixels, times and detectors. Here we sum all of the time indices, pixel indices and detector indices. \n",
    "# The aim is to produce a single spectrum for the entire flare duration.  \n",
    "\n",
    "counts_sci, errors_sci, times_sci, deltatimes_sci, energies_sci = spec.get_data(pixel_indices=[[0,7]],\n",
    "                                                                                time_indices=[[0,len(times_sci_full)-1]],\n",
    "                                                                                detector_indices=[[0,22]])\n",
    "# Extract the data into a more user friendly format\n",
    "\n",
    "counts_sci = counts_sci[0][0][0]\n",
    "errors_sci = errors_sci[0][0][0]"
   ]
  },
  {
   "cell_type": "code",
   "execution_count": null,
   "metadata": {},
   "outputs": [],
   "source": [
    "# Take a look at the counts and notice the units!! Is this an absolute value, or a count rate?\n",
    "counts_sci"
   ]
  },
  {
   "cell_type": "code",
   "execution_count": null,
   "metadata": {},
   "outputs": [],
   "source": [
    "# Each energy bin has a lower bin edge and an upper bin edge. We need to calculate the bin centers so that we can plot \n",
    "# uncertainties at the bin centers. \n",
    "\n",
    "energy_edges = np.concatenate([energies_sci['e_low'].value,[energies_sci['e_high'][-1].value]])*u.keV\n",
    "energy_centers = energies_sci['e_low'] + 0.5*np.diff(energy_edges)\n",
    "\n",
    "# Notice that we always plot in loglog space! \n",
    "\n",
    "plt.figure()\n",
    "plt.loglog()\n",
    "plt.errorbar(energy_centers,counts_sci,yerr=errors_sci,marker=None,capsize=2,linestyle='', color='red')\n",
    "plt.stairs(counts_sci,energy_edges,baseline=None, color='red')\n",
    "plt.xlim([3.5,52])\n",
    "\n",
    "# Here we have a great spectrum of the full event. However this spectrum is not background subtracted. "
   ]
  },
  {
   "cell_type": "code",
   "execution_count": null,
   "metadata": {},
   "outputs": [],
   "source": [
    "# Now we need to find and download a suitable background file to subtract the background flux from the science \n",
    "# data flux, allowing us to see the flux produced solely by the flare."
   ]
  },
  {
   "cell_type": "code",
   "execution_count": null,
   "metadata": {},
   "outputs": [],
   "source": [
    "bkg_query = Fido.search(a.Time('2023-07-06T20:00:00', '2023-07-06T22:00:00'), a.Instrument.stix, a.stix.DataType.sci)\n",
    "bkg_query\n"
   ]
  },
  {
   "cell_type": "code",
   "execution_count": null,
   "metadata": {},
   "outputs": [],
   "source": [
    "bkg_files = Fido.fetch(bkg_query[0][[0]])"
   ]
  },
  {
   "cell_type": "code",
   "execution_count": null,
   "metadata": {},
   "outputs": [],
   "source": [
    "bkg = Product(bkg_files[0])\n",
    "bkg"
   ]
  },
  {
   "cell_type": "code",
   "execution_count": null,
   "metadata": {},
   "outputs": [],
   "source": [
    "# 6. Plot the quicklook spectrogram plot and compare it with that of the science data. The other two plots are not \n",
    "# important here. \n"
   ]
  },
  {
   "cell_type": "code",
   "execution_count": 17,
   "metadata": {},
   "outputs": [],
   "source": [
    "# 7. Use the get_data function to retrive all of the data. I suggest using the names \n",
    "# counts_bkg_full, errors_bkg_full, times_bkg_full, deltatimes_bkg_full, energies_bkg_full \n"
   ]
  },
  {
   "cell_type": "code",
   "execution_count": null,
   "metadata": {},
   "outputs": [],
   "source": [
    "# 8. Now repeat the above step using get_data function to retrive the relevant data for background subtraction. \n",
    "# I suggest using the names \n",
    "# counts_bkg, errors_bkg, times_bkg, deltatimes_bkg, energies_bkg  \n",
    "# You will need to insert the correct time and energy_indices. \n",
    "# Hints: \n",
    "# 1. You need to select all of the time indices as with the example above\n",
    "# 2. You need to select the corresponding energy bins to that of the science data, print out the bins as we did for the \n",
    "# science data and set the 'start' and 'stop' indices to those which match the energies included in the science data. \n",
    "\n",
    "\n",
    "counts_bkg, errors_bkg, times_bkg, deltatimes_bkg, energies_bkg = bkg.get_data(pixel_indices=[[0,7]],\n",
    "                                                                                time_indices=[[,]],\n",
    "                                                                                detector_indices=[[0,22]],\n",
    "                                                                                energy_indices=np.arange('start','stop',1))\n",
    "\n",
    "counts_bkg= counts_bkg[0][0][0]\n",
    "errors_bkg= errors_bkg[0][0][0]\n",
    "\n",
    "energies_bkg"
   ]
  },
  {
   "cell_type": "code",
   "execution_count": null,
   "metadata": {},
   "outputs": [],
   "source": [
    "# 9. Create a plot for the background as we did above for the science data. Note the plotting scale!\n"
   ]
  },
  {
   "cell_type": "code",
   "execution_count": null,
   "metadata": {},
   "outputs": [],
   "source": [
    "# 10. Here I have written the code to subract the background and have added the errors in quadrature. Write the plotting\n",
    "# code to take a look at the result. \n",
    "\n",
    "counts_bkg_subtracted = counts_sci - counts_bkg\n",
    "errors_bkg_subtracted = np.sqrt(errors_bkg**2 + errors_sci**2)\n"
   ]
  },
  {
   "cell_type": "code",
   "execution_count": null,
   "metadata": {},
   "outputs": [],
   "source": [
    "# 11. The plots you have created so far have been for the entire dataset, however we would normally want to view the \n",
    "# evolution of the flare. Write some code to extract the science data for shorter time bins to see the evolution of the\n",
    "# shape of the spectrum across the flare duration. Notice how the shape changes. In the spectra where there are more \n",
    "# counts at higher energies, we are seeing the nonthermal phase of the flare.\n",
    "\n",
    "# Hints:\n",
    "# 1. The only argument that needs to be amended is time_indices. \n",
    "# 2. The background can be used as it is, as the result is a count rate and so is time averaged, meaning we don't need\n",
    "# to change the background at all and can subtract this from every time bin we create. \n",
    "# 3. To improve the appearance of the plot we may want to ignore any data below a certain value such as \n",
    "# 10^{-1} ct kev^{-1} s^{-1} which may be spurious due to imperfect background subtraction."
   ]
  }
 ],
 "metadata": {
  "kernelspec": {
   "display_name": "base",
   "language": "python",
   "name": "python3"
  },
  "language_info": {
   "codemirror_mode": {
    "name": "ipython",
    "version": 3
   },
   "file_extension": ".py",
   "mimetype": "text/x-python",
   "name": "python",
   "nbconvert_exporter": "python",
   "pygments_lexer": "ipython3",
   "version": "3.12.2"
  }
 },
 "nbformat": 4,
 "nbformat_minor": 2
}
