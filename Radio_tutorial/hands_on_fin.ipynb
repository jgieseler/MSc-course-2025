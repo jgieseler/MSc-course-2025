{
 "cells": [
  {
   "cell_type": "markdown",
   "id": "15934cb2",
   "metadata": {},
   "source": [
    "# **Type III Solar Radio Burst Analysis Tutorial**\n",
    "\n",
    "**Overview:** In three parts we’ll cover  \n",
    "\n",
    "1. Introduction to NenuFAR & Type III bursts  \n",
    "2. Automated and manual burst detection  \n",
    "3. Detailed burst analysis: drift rates, density models, rise/decay fitting \n",
    "\n",
    "---\n",
    "\n",
    "**Developed by:** Jinge ZHANG, Paris Observatory (Meudon Site)\n",
    "\n",
    "**My e-mail::** Jinge.Zhang@obspm.fr\n"
   ]
  },
  {
   "cell_type": "markdown",
   "id": "c8b080fa",
   "metadata": {},
   "source": [
    "## **Part 0: Before we start:**\n",
    "\n",
    "### **0.1 Setting Up the Environment**\n",
    "Before running this notebook, ensure running **MSc-course-2025 kernel**. The required dependencies have been installed.\n",
    "\n",
    "If some packages are reported missing:\n",
    "\n",
    "```bash\n",
    "\n",
    "# Install essential Python packages\n",
    "pip install numpy\n",
    "pip install matplotlib\n",
    "pip install astropy[recommended] --upgrade\n",
    "pip install scipy --upgrade"
   ]
  },
  {
   "cell_type": "markdown",
   "id": "397bc09b",
   "metadata": {},
   "source": [
    "### **0.2 Matplotlib Inline Mode**\n",
    "\n",
    "To display plots directly in the notebook, we use the following magic command:"
   ]
  },
  {
   "cell_type": "code",
   "execution_count": 1,
   "id": "37317091",
   "metadata": {},
   "outputs": [],
   "source": [
    "%matplotlib inline"
   ]
  },
  {
   "cell_type": "markdown",
   "id": "a1b7e634",
   "metadata": {},
   "source": [
    "### **0.3 Import Required Libraries and Tools**\n",
    "\n",
    "This cell imports essential tools for handling and analyzing spectral data."
   ]
  },
  {
   "cell_type": "code",
   "execution_count": 2,
   "id": "a6a1817b",
   "metadata": {},
   "outputs": [],
   "source": [
    "import os\n",
    "import matplotlib.pyplot as plt\n",
    "from matplotlib.dates import DateFormatter, num2date, date2num\n",
    "import numpy as np\n",
    "from datetime import datetime\n",
    "import astropy.units as u\n",
    "\n",
    "\n",
    "# These are the tools that developed for analysing type III bursts.\n",
    "\n",
    "from nenutools.combine_spectra  import load_combined_hdf5\n",
    "from nenutools.loader          import load_spectra_and_bursts\n",
    "from nenutools.analysis        import analyze_burst_velocity\n",
    "from nenutools.window_detection import detect_window"
   ]
  },
  {
   "cell_type": "markdown",
   "id": "bed160c8",
   "metadata": {},
   "source": [
    "## **Part 1: NenuFAR & Dynamic Spectra**\n",
    "\n",
    "### What is NenuFAR?\n",
    "- **NenuFAR** = [New Extension in Nançay Upgrading LOFAR](https://nenufar.obs-nancay.fr/en/homepage-en/#en-presentation)  \n",
    "- Low-frequency array (10–85 MHz) with superb sensitivity  \n",
    "\n",
    "### Quick-look Dynamic Spectrum\n",
    "- Visit the [NENU-SUN quick-look page](https://nenusun.obspm.fr/catalogue/calendar/)  \n",
    "- Check the availability of NenuFAR solar data in the calendar  \n",
    "- Examine different types of solar radio bursts—especially Type III bursts  \n",
    "- Stokes I, Q, U, V quick-looks available  \n",
    "- **CONTEXT** view includes data from other instruments when available  \n",
    "\n",
    "### Data Products on the Nançay Server (`nenufar-tf`)\n",
    "- Raw dynamic spectra delivered as `.spectra` files  \n",
    "- High time- and frequency-resolution  \n",
    "- Use the **nenupy** Python package to load and read `.spectra` files  "
   ]
  },
  {
   "cell_type": "markdown",
   "id": "29a4eaa5",
   "metadata": {},
   "source": [
    "### **What are the hdf5 data files in our current working space dictionary? Why?**"
   ]
  },
  {
   "cell_type": "markdown",
   "id": "ce2821a7",
   "metadata": {},
   "source": [
    "## **1.1: Load Dynamic Spectra**\n",
    "\n",
    "In this step we’ll load the three HDF5 files we’ve pre-downloaded:\n",
    "\n",
    "- **Low-band spectrum** (`_0.hdf5`),  \n",
    "- **High-band spectrum** (`_1.hdf5`),  \n",
    "- **Combined spectrum** (`_COM.hdf5`).\n",
    "\n",
    "We’ll use the `load_combined_hdf5()` function from **combine_spectra.py** to read each file. This will give us:\n",
    "\n",
    "- `data3d_*`  : 3D array of Stokes-I ([ntime, nchan, 1])  \n",
    "- `time_jd_*` : array of Julian Dates  \n",
    "- `time_unix_*`: array of UNIX timestamps (seconds)  \n",
    "- `time_dt_*` : list of Python `datetime` objects (UTC)  \n",
    "- `time_mpl_*`: array of Matplotlib datenums (for plotting)  \n",
    "- `freq_*`    : array of frequency channels (MHz)  \n"
   ]
  },
  {
   "cell_type": "code",
   "execution_count": null,
   "id": "16eec192",
   "metadata": {},
   "outputs": [],
   "source": [
    "# load the file we already have in our working space\n",
    "# We have two days of data in the working space. We play with the 2025-03-29 data file first!\n",
    "\n",
    "#This is the file path of the 20250329_I_COM.hdf5. Redefine your own path!\n",
    "h5path0 = \"lab_results/20250329_I_0.hdf5\" # your path to 20250329_I_0.hdf5\n",
    "h5path1 = \"lab_results/20250329_I_1.hdf5\" # your path to 20250329_I_1.hdf5\n",
    "h5pathCOM = \"lab_results/20250329_I_COM.hdf5\" # your path to 20250329_I_COM.hdf5\n",
    "\n",
    "#Using the load_combined_hdf5() in combine_spectra.py to read the file.\n",
    "data3d_0, time_jd_0, time_unix_0, time_dt_0, time_mpl_0, freq_0 = load_combined_hdf5(h5path0)\n",
    "data3d_1, time_jd_1, time_unix_1, time_dt_1, time_mpl_1, freq_1 = load_combined_hdf5(h5path1)\n",
    "data3d, time_jd, time_unix, time_dt, time_mpl, freq = load_combined_hdf5(h5pathCOM)"
   ]
  },
  {
   "cell_type": "markdown",
   "id": "ed9cde9f",
   "metadata": {},
   "source": [
    "### Preparing the Dynamic Spectrum for Plotting\n",
    "- Remove the singleton polarization axis (shape `(ntime, nchan, 1)` → `(ntime, nchan)`)  \n",
    "- Transpose to shape `(nchan, ntime)` so that rows correspond to frequency channels and columns to time  "
   ]
  },
  {
   "cell_type": "code",
   "execution_count": 4,
   "id": "66f319d0",
   "metadata": {},
   "outputs": [],
   "source": [
    "# squeeze off the singleton polarization axis and transpose to (freq × time)\n",
    "# Simply, reshape data from 3d to 2d. (freq, time, 1) to (freq, time)\n",
    "spec2d = data3d.squeeze().T\n",
    "spec2d_0 = data3d_0.squeeze().T\n",
    "spec2d_1 = data3d_1.squeeze().T\n"
   ]
  },
  {
   "cell_type": "markdown",
   "id": "b720da97",
   "metadata": {},
   "source": [
    "## **1.2: Visualizing the HIGH and LOW Bands Separately**\n",
    "- Create a 2-row figure sharing the time axis  \n",
    "- Top panel: HIGH band dynamic spectrum (`spec2d_1`)  \n",
    "- Bottom panel: LOW band dynamic spectrum (`spec2d_0`)  \n",
    "- Colorbars show Stokes I amplitude, and time formatted as UTC "
   ]
  },
  {
   "cell_type": "code",
   "execution_count": null,
   "id": "5cc97bf0",
   "metadata": {},
   "outputs": [],
   "source": [
    "fig, (ax0, ax1) = plt.subplots(2, 1, figsize=(12, 10), sharex=True)\n",
    "\n",
    "# Plot low band\n",
    "im0 = ax0.imshow(\n",
    "    spec2d_1,\n",
    "    aspect=\"auto\", origin=\"lower\",\n",
    "    extent=[time_mpl_1[0], time_mpl_1[-1], freq_1[0], freq_1[-1]],\n",
    "    cmap=\"viridis\"\n",
    ")\n",
    "ax0.set_ylabel(\"Frequency (MHz)\")\n",
    "ax0.set_title(\"HIGH Band Dynamic Spectrum\")\n",
    "ax0.xaxis.set_major_formatter(DateFormatter(\"%H:%M:%S\"))\n",
    "plt.colorbar(im0, ax=ax0, label=\"Amplitude\")\n",
    "\n",
    "# Plot high band\n",
    "im1 = ax1.imshow(\n",
    "    spec2d_0,\n",
    "    aspect=\"auto\", origin=\"lower\",\n",
    "    extent=[time_mpl_0[0], time_mpl_0[-1], freq_0[0], freq_0[-1]],\n",
    "    cmap=\"viridis\"\n",
    ")\n",
    "ax1.set_ylabel(\"Frequency (MHz)\")\n",
    "ax1.set_title(\"LOW Band Dynamic Spectrum\")\n",
    "ax1.xaxis.set_major_formatter(DateFormatter(\"%H:%M:%S\"))\n",
    "plt.colorbar(im1, ax=ax1, label=\"Amplitude\")\n",
    "\n",
    "ax1.set_xlabel(\"Time (UT)\")\n",
    "plt.tight_layout()\n",
    "plt.show()"
   ]
  },
  {
   "cell_type": "markdown",
   "id": "12b0c1b0",
   "metadata": {},
   "source": [
    "## **1.3: Plot Full Dynamic Spectrum with Optional Zoom**\n",
    "- **Inputs** (from previous cells):\n",
    "  - `spec2d`   : 2D array `(nfreq, ntime)`  \n",
    "  - `time_mpl` : 1D array `ntime` (Matplotlib datenums)  \n",
    "  - `freq`     : 1D array `nfreq` (MHz)  \n",
    "- Toggle zoom with `do_zoom=True` and set your time/frequency limits  \n",
    "- When zooming, color limits are recomputed over the sub‐window  "
   ]
  },
  {
   "cell_type": "code",
   "execution_count": null,
   "id": "cf2e1a63",
   "metadata": {},
   "outputs": [],
   "source": [
    "# assume you already have:\n",
    "#   spec2d    : 2D array of shape (nfreq, ntime)\n",
    "#   time_mpl  : 1D array of length ntime (Matplotlib datenums)\n",
    "#   freq      : 1D array of length nfreq (MHz)\n",
    "\n",
    "# -- Optional zoom window (uncomment or set do_zoom=True) --\n",
    "do_zoom = False\n",
    "\n",
    "# define your zoom limits here:\n",
    "t0 = datetime.strptime(\"2025-03-29 12:37:00\", \"%Y-%m-%d %H:%M:%S\")\n",
    "t1 = datetime.strptime(\"2025-03-29 12:44:06\", \"%Y-%m-%d %H:%M:%S\")\n",
    "t_start = date2num(t0);  t_end = date2num(t1)\n",
    "f_min, f_max = 30.0, 80.0  # MHz\n",
    "\n",
    "# -------------------------------------------------------\n",
    "\n",
    "fig, ax = plt.subplots(figsize=(12, 6))\n",
    "im = ax.imshow(\n",
    "    spec2d,\n",
    "    aspect='auto',\n",
    "    origin='lower',\n",
    "    extent=[time_mpl[0], time_mpl[-1], freq[0], freq[-1]],\n",
    "    cmap='viridis'\n",
    ")\n",
    "cbar = plt.colorbar(im, ax=ax, label='Stokes I Amplitude')\n",
    "\n",
    "# Format axes\n",
    "ax.xaxis.set_major_formatter(DateFormatter('%H:%M:%S'))\n",
    "ax.set_xlabel('Time (UT)')\n",
    "ax.set_ylabel('Frequency (MHz)')\n",
    "ax.set_title('NenuFAR Dynamic Spectrum (2025-03-29)')\n",
    "\n",
    "if do_zoom:\n",
    "    # apply zoom limits\n",
    "    ax.set_xlim(t_start, t_end)\n",
    "    ax.set_ylim(f_min, f_max)\n",
    "    # recompute color‐limits on zoomed region\n",
    "    time_idx = np.where((time_mpl >= t_start) & (time_mpl <= t_end))[0]\n",
    "    freq_idx = np.where((freq    >= f_min ) & (freq    <= f_max))[0]\n",
    "    sub_spec = spec2d[np.ix_(freq_idx, time_idx)]\n",
    "    vmin, vmax = np.nanpercentile(sub_spec, [5, 95])\n",
    "    im.set_clim(vmin, vmax)\n",
    "    cbar.mappable.set_clim(vmin, vmax)\n",
    "\n",
    "plt.tight_layout()\n",
    "plt.show()"
   ]
  },
  {
   "cell_type": "markdown",
   "id": "91d7423c",
   "metadata": {},
   "source": [
    "## **Part 2: Locate Type III Bursts & Data Pre-Processing**\n",
    "\n",
    "Before we can measure drift rates and velocities, we first need to pinpoint where the Type III bursts occur in our dynamic spectrum. \n",
    "This means defining a **region of interest (ROI)** in time and frequency that contains the burst, then extracting that sub-spectrum for further analysis.\n",
    "\n",
    "> **Questions to consider**  \n",
    "> - What criteria determine a burst’s start and end times?  \n",
    "> - How do you choose an appropriate frequency band for the burst?  \n",
    "> - What kinds of noise or RFI appear in the spectrum, and how might they bias your drift-rate measurement?  \n",
    "\n",
    "In this section we will:\n",
    "1. **Manually select** a time–frequency window (the **ROI**) and run `detect_window()` to extract and plot the burst sub-spectrum.  \n",
    "2. **Automatically scan** the full dynamic spectrum with `T3_detection()` to detect Type III bursts, and save burst list and per-chunk diagnostics.  **(SEE LIVE SCREEN !)**\n",
    "3. **Assemble** the burst metadata (start/end times, frequency range, peak times) so it’s ready for our velocity analysis in Part 3.  "
   ]
  },
  {
   "cell_type": "markdown",
   "id": "e03e5ba7",
   "metadata": {},
   "source": [
    "## **2.1: Now choose a ROI containing the burst you’d like to analyze:**\n",
    "\n",
    "1. **Pick start/end times** (UTC) by looking at the spectrum plot.\n",
    "2. **Choose** a frequency band (`f_min`, `f_max` in MHz) encompassing the burst.\n",
    "3. **Run** the detection routine to find the peak times/frequencies and plot the window."
   ]
  },
  {
   "cell_type": "code",
   "execution_count": null,
   "id": "57a3949c",
   "metadata": {},
   "outputs": [],
   "source": [
    "# 1) pick your time window\n",
    "t0 = datetime(2025, 3, 29, 12, 42, 50)  # start time\n",
    "t1 = datetime(2025, 3, 29, 12, 43, 17)  # end time\n",
    "\n",
    "# convert to Matplotlib float‐dates (days)\n",
    "t_start = date2num(t0)\n",
    "t_end   = date2num(t1)\n",
    "\n",
    "# 2) pick your freq window (MHz)\n",
    "f_min, f_max = 20, 70\n",
    "\n",
    "# 3) run the detection + plotting, detect_window() tool!\n",
    "results = detect_window(\n",
    "    data3d,           # (ntime, nfreq, 1) array from load_combined_hdf5\n",
    "    time_mpl,         # Matplotlib datenums\n",
    "    freq,             # MHz axis\n",
    "    t_start,          # mpl date start\n",
    "    t_end,            # mpl date end\n",
    "    f_min,            # MHz low‐end\n",
    "    f_max             # MHz high‐end\n",
    ")\n"
   ]
  },
  {
   "cell_type": "markdown",
   "id": "f2c295a8",
   "metadata": {},
   "source": [
    "## **2.2: Compute Electron Beam Velocity**\n",
    "\n",
    "With your window detected, call the **`analyze_burst_velocity`** routine to:\n",
    "\n",
    "1. **Fit** the burst in each frequency channel (FWHM or 1/e).  \n",
    "2. **Extract** peak, start & end times × frequencies.  \n",
    "3. **Convert** the frequency drift to radial distance using your chosen density model and emission mechanism.  \n",
    "4. **Plot**:\n",
    "   - Windowed dynamic spectrum with peak markers  \n",
    "   - Frequency drift & linear fit  \n",
    "   - Radial distance vs time (beam velocities)  \n",
    "   - (Optional) Density‐vs‐radius comparison  \n",
    "\n",
    "**Parameters**  \n",
    "- `density_model`: coronal density profile (`\"saito\"`, `\"leblanc98\"`, `\"parkerfit\"`, …)  \n",
    "- `emission_mechanism`: `\"F\"` for fundamental, `\"H\"` for harmonic emission  \n",
    "- `fit_method`: define start/end (`\"FWHM\"` or `\"1/e\"`)  \n",
    "- `y_scale`: plot axis scaling (`\"none\"`, `\"inverse\"`, or `\"log\"`)  \n",
    "- `fit_mode`: fitting algorithm (`\"none\"`, or `\"single\"` for single Gaussian fit)  \n",
    "- `show_density_models`: toggle extra figure comparing all density models  \n",
    "- `debug`: see performance of fit_mode and check the light curve for the selected frequency range."
   ]
  },
  {
   "cell_type": "code",
   "execution_count": null,
   "id": "38de4b28",
   "metadata": {},
   "outputs": [],
   "source": [
    "\n",
    "analyze_burst_velocity(\n",
    "    results,\n",
    "    density_model=\"saito\", # chose a density model\n",
    "    emission_mechanism=\"H\",# \"F\"=fundamental, \"H\"=second harmonic\n",
    "    fit_method=\"FWHM\",     #\"FWHM\" or \"1/e\"\n",
    "    y_scale=\"none\",        #\"none\", \"inverse\" or \"log\"\n",
    "    fit_mode=\"none\",       #\"none\", \"single\"\n",
    "    show_density_models=False,\n",
    "    debug=False,\n",
    "    debug_freq_ranges = [(40, 41)]\n",
    ")"
   ]
  },
  {
   "cell_type": "markdown",
   "id": "d6972d1f",
   "metadata": {},
   "source": [
    "## **2.3: Automated Type III Burst Detection**\n",
    "\n",
    "Manually picking a time–frequency Region of Interest (ROI) can be tedious when multiple Type III bursts occur.  \n",
    "To detect all bursts over your entire observation at once, use the **`T3_detection`** routine on the full dynamic spectrum. It will:\n",
    "\n",
    "1. **Split** the time series into overlapping chunks  \n",
    "2. **Mask** RFI-polluted frequency channels  \n",
    "3. **Detect** burst peaks in both raw and smoothed total-power series  \n",
    "4. **Save** per-chunk diagnostic plots and burst lists (pickles)\n",
    "\n",
    "### **Note: T3_detection is under active development and not yet officially released. I’ll demonstrate this live on my shared screen during the session.**\n",
    "### **After then, you can straight to Part 3 by using the precomputed burst lists and per-chunk diagnostics in the lab_results folder.**"
   ]
  },
  {
   "cell_type": "markdown",
   "id": "5bb8f8b8",
   "metadata": {},
   "source": [
    "## **Part 3: Analyzing Type III Bursts**\n",
    "\n",
    "Now that we’ve identified and extracted our burst ROIs, it’s time to dig into the analysis (you already saw it from above, but now more detailed!) and physics:\n",
    "\n",
    "1. **Assumptions & Inputs**  \n",
    "   - **Emission mechanism** (“F” vs “H”)  \n",
    "   - **Density model** (e.g. `saito`, `leblanc98`, `parkerfit`, …)  \n",
    "   - **Time–frequency window** to include/exclude  **RFI‐polluted channels** \n",
    "   - **Fit method** for each channel’s light curve (`FWHM` vs `1/e`)\n",
    "\n",
    "2. **Drift Rate & Velocity**  \n",
    "   - Measure **df/dt** in each channel → linear fit → drift rate (MHz s⁻¹)  \n",
    "   - Convert radio frequency → plasma density → radial distance → beam speed (in c)  \n",
    "\n",
    "3. **Time‐Profile Analysis**  \n",
    "   - Characterize **rise**, **peak**, and **decay** times in each channel  \n",
    "   - Compare different fitting modes (`none` vs `single` (Gaussian fits))  \n",
    "\n",
    "4. **Parameter Exploration**  \n",
    "   - How do **density model** or **emission mechanism** choices affect inferred speeds?  \n",
    "   - What role does **RFI removal** or **noise** play in determining df/dt?  \n",
    "\n",
    "5. **Science Questions**  \n",
    "   - Can we correlate radio‐derived beam arrival times with **X-ray flare** signatures?  \n",
    "   - What do rise vs decay asymmetries reveal about **radio‐wave scattering** in the corona?  \n",
    "   - Do beams **decelerate** as they propagate? Why it seems that the drift rate decrease over time?  \n",
    "   - What other **solar radio burst** types (II, IV, etc.) can you spot in the quick‐look data?  \n",
    "\n",
    "\n"
   ]
  },
  {
   "cell_type": "markdown",
   "id": "691ac99e",
   "metadata": {},
   "source": [
    "## **3.1:  Batch‐Process Selected Bursts**\n",
    "\n",
    "Once you’ve detected your bursts and generated the ROI pickles, you can load them back in, define any custom per‐burst frequency ranges, and run the full velocity‐fitting routine on each one:\n",
    "\n",
    "1. **Load** your saved burst list and dynamic spectrm with `load_spectra_and_bursts()`  \n",
    "2. **Optionally** specify per‐burst frequency windows to focus on (e.g. avoid RFI or noisy channels)  \n",
    "3. **Loop** over each burst, squeeze off any singleton polarization axis, and call `analyze_burst_velocity()`  (2.2 introduced it.)\n",
    "   - Choose your **density model**, **emission mechanism**, **fit method**, etc.  \n",
    "   - Toggle **debug** or **show_density_models** to explore intermediate steps  "
   ]
  },
  {
   "cell_type": "code",
   "execution_count": null,
   "id": "1a041423",
   "metadata": {},
   "outputs": [],
   "source": [
    "# 1) Load the ROIs for the bursts you care about\n",
    "results = load_spectra_and_bursts(\n",
    "    results_folder = \"lab_results\",\n",
    "    date           = \"20250329\",\n",
    "    stokes         = \"I\",\n",
    "    burst_type     = \"smoothed\",\n",
    "    burst_numbers  = [1, 8, 9, 10]\n",
    ")\n",
    "\n",
    "# 2) Define any per-burst frequency ranges you want\n",
    "freq_ranges = {\n",
    "    1: (40, 50),\n",
    "    8: (45, 70),\n",
    "    9: (40, 70),\n",
    "    10: (40, 70),\n",
    "}\n",
    "\n",
    "# 3) Loop over each burst and run your velocity‐fitting routine\n",
    "for bn, bd in results.items():\n",
    "    bd[\"roi_data\"] = bd[\"roi_data\"].squeeze(-1)\n",
    "    print(f\"\\n=== Analyzing burst {bn} ===\")\n",
    "    analyze_burst_velocity(\n",
    "        bd,\n",
    "        density_model     = \"saito\",\n",
    "        emission_mechanism= \"F\",\n",
    "        freq_range        = freq_ranges.get(bn),\n",
    "        fit_method        = \"FWHM\",\n",
    "        y_scale           = \"none\",\n",
    "        fit_mode          = \"none\",\n",
    "        show_density_models=False,\n",
    "        debug             = False,\n",
    "        debug_freq_ranges = [(40, 41)]\n",
    "    )"
   ]
  },
  {
   "cell_type": "markdown",
   "id": "0bf6985f",
   "metadata": {},
   "source": []
  }
 ],
 "metadata": {
  "kernelspec": {
   "display_name": "my_py312",
   "language": "python",
   "name": "python3"
  },
  "language_info": {
   "codemirror_mode": {
    "name": "ipython",
    "version": 3
   },
   "file_extension": ".py",
   "mimetype": "text/x-python",
   "name": "python",
   "nbconvert_exporter": "python",
   "pygments_lexer": "ipython3",
   "version": "3.12.3"
  }
 },
 "nbformat": 4,
 "nbformat_minor": 5
}
