{
 "cells": [
  {
   "metadata": {},
   "cell_type": "markdown",
   "source": [
    "## Custom File Handler\n",
    "\n",
    "In order to find a new event, the search_new_event function of the SOLERwave tool is used. It is based on sunpys fido search function. \n",
    "\n",
    "It produces a folder structure for the data at the defined \"path\", downloads images of the defined instrument and preprocesses these images by derotating, binning and calculating the base ratio.\n",
    "\n",
    "Currently, the following instruments are implemented:\n",
    "- SDO/AIA as 'aia'\n",
    "- STEREO/SECCHI as 'secchi'\n",
    "- GONG/H-alpha as 'gong' $^1$ \n",
    "- Kanzelhoehe/H-alpha as 'ha2'\n",
    "\n",
    "For a successful search, the following arguments are required: \n",
    "- path for the data\n",
    "- start time\n",
    "- end time\n",
    "- Instrument name\n",
    "- Wavelength $^2$\n",
    "\n",
    "Notes:\n",
    "- $^1$ Technically gong is the source, not the instrument when it comes to H-alpha data. Calling \"search_new_event\" with 'gong' will result in a summary of which observatory was active during the time. For an actual download the function has to be called with the name of one of these observatories (see Example 2 for more information).\n",
    "\n",
    "- $^2$ For H-alpha observation the wvelength should be 6562.8 Angstrom\n"
   ],
   "id": "9dce8cf0963d604e"
  },
  {
   "metadata": {
    "ExecuteTime": {
     "end_time": "2025-03-18T14:24:56.943933Z",
     "start_time": "2025-03-18T14:24:19.007294Z"
    }
   },
   "cell_type": "code",
   "source": [
    "import astropy.units as u\n",
    "from SOLERwaves_custom_file_handler import search_new_event"
   ],
   "id": "3c563403e0567d0a",
   "outputs": [],
   "execution_count": 1
  },
  {
   "metadata": {},
   "cell_type": "markdown",
   "source": [
    "## Example 1: SDO/AIA, 211$\\AA$, 2022 March 10\n",
    "\n",
    "Example 1 is a nice wave observed on the 06.th of September 2011 and was already characterised by Dissauer et al. 2016.\n",
    "\n",
    "Note for AIA observations: to download data form the jsoc server, a jsoc_notify_mail is needed. This can be created via http://jsoc.stanford.edu/ajax/register_email.html\n",
    " "
   ],
   "id": "8103c8e4a4c67674"
  },
  {
   "metadata": {
    "ExecuteTime": {
     "end_time": "2025-03-17T16:06:53.816804Z",
     "start_time": "2025-03-17T15:53:59.928309Z"
    }
   },
   "cell_type": "code",
   "source": [
    "jsoc_notify_mail_ = 'Your mail here'\n",
    "\n",
    "search_new_event('Data_Turku_Lecture', '2022-03-28T11:15:00', '2022-03-28T11:40:00',\n",
    "                jsoc_notify_mail=jsoc_notify_mail_, Instrument_Name='aia',\n",
    "                Wavelength_=211 * u.AA)"
   ],
   "id": "882ebc88cbbe057e",
   "outputs": [
    {
     "name": "stdout",
     "output_type": "stream",
     "text": [
      "16:54:20 custom_sunpy_file_handler: folder successfully created\n"
     ]
    },
    {
     "name": "stderr",
     "output_type": "stream",
     "text": [
      "2025-03-17 16:54:33 - drms - INFO: Export request pending. [id=JSOC_20250317_001246, status=2]\n",
      "2025-03-17 16:54:33 - drms - INFO: Waiting for 0 seconds...\n",
      "2025-03-17 16:54:34 - sunpy - INFO: 17 URLs found for download. Full request totaling 158MB\n"
     ]
    },
    {
     "name": "stdout",
     "output_type": "stream",
     "text": [
      "INFO: 17 URLs found for download. Full request totaling 158MB [sunpy.net.jsoc.jsoc]\n"
     ]
    },
    {
     "data": {
      "text/plain": [
       "Files Downloaded:   0%|          | 0/17 [00:00<?, ?file/s]"
      ],
      "application/vnd.jupyter.widget-view+json": {
       "version_major": 2,
       "version_minor": 0,
       "model_id": "722ee698e0514f40a13ec0525eb4c556"
      }
     },
     "metadata": {},
     "output_type": "display_data"
    },
    {
     "data": {
      "text/plain": [
       "aia.lev1_euv_12s.2011-09-06T222002Z.211.image_lev1.fits:   0%|          | 0.00/11.2M [00:00<?, ?B/s]"
      ],
      "application/vnd.jupyter.widget-view+json": {
       "version_major": 2,
       "version_minor": 0,
       "model_id": "0ba72e15ccb942059ff99315b91c0be7"
      }
     },
     "metadata": {},
     "output_type": "display_data"
    },
    {
     "data": {
      "text/plain": [
       "aia.lev1_euv_12s.2011-09-06T222016Z.211.image_lev1.fits:   0%|          | 0.00/8.58M [00:00<?, ?B/s]"
      ],
      "application/vnd.jupyter.widget-view+json": {
       "version_major": 2,
       "version_minor": 0,
       "model_id": "523a2891f9ec4d918bdcc1392b2e6cde"
      }
     },
     "metadata": {},
     "output_type": "display_data"
    },
    {
     "data": {
      "text/plain": [
       "aia.lev1_euv_12s.2011-09-06T222026Z.211.image_lev1.fits:   0%|          | 0.00/11.2M [00:00<?, ?B/s]"
      ],
      "application/vnd.jupyter.widget-view+json": {
       "version_major": 2,
       "version_minor": 0,
       "model_id": "e7878518cbbc4bd58d1ab7dff14aa236"
      }
     },
     "metadata": {},
     "output_type": "display_data"
    },
    {
     "data": {
      "text/plain": [
       "aia.lev1_euv_12s.2011-09-06T222040Z.211.image_lev1.fits:   0%|          | 0.00/8.74M [00:00<?, ?B/s]"
      ],
      "application/vnd.jupyter.widget-view+json": {
       "version_major": 2,
       "version_minor": 0,
       "model_id": "2ea79415292047c58868185be655359f"
      }
     },
     "metadata": {},
     "output_type": "display_data"
    },
    {
     "data": {
      "text/plain": [
       "aia.lev1_euv_12s.2011-09-06T222050Z.211.image_lev1.fits:   0%|          | 0.00/11.2M [00:00<?, ?B/s]"
      ],
      "application/vnd.jupyter.widget-view+json": {
       "version_major": 2,
       "version_minor": 0,
       "model_id": "e5cfaef35c694752827250cf7f9aa47d"
      }
     },
     "metadata": {},
     "output_type": "display_data"
    },
    {
     "data": {
      "text/plain": [
       "aia.lev1_euv_12s.2011-09-06T222104Z.211.image_lev1.fits:   0%|          | 0.00/7.92M [00:00<?, ?B/s]"
      ],
      "application/vnd.jupyter.widget-view+json": {
       "version_major": 2,
       "version_minor": 0,
       "model_id": "c8a5334f159f449f9191909b65335c9c"
      }
     },
     "metadata": {},
     "output_type": "display_data"
    },
    {
     "data": {
      "text/plain": [
       "aia.lev1_euv_12s.2011-09-06T222114Z.211.image_lev1.fits:   0%|          | 0.00/11.2M [00:00<?, ?B/s]"
      ],
      "application/vnd.jupyter.widget-view+json": {
       "version_major": 2,
       "version_minor": 0,
       "model_id": "c3d8f3d34122444a87fd5ce8a43d8bae"
      }
     },
     "metadata": {},
     "output_type": "display_data"
    },
    {
     "data": {
      "text/plain": [
       "aia.lev1_euv_12s.2011-09-06T222128Z.211.image_lev1.fits:   0%|          | 0.00/8.05M [00:00<?, ?B/s]"
      ],
      "application/vnd.jupyter.widget-view+json": {
       "version_major": 2,
       "version_minor": 0,
       "model_id": "526ceedb11e8428e9a0e9c029727ebcc"
      }
     },
     "metadata": {},
     "output_type": "display_data"
    },
    {
     "data": {
      "text/plain": [
       "aia.lev1_euv_12s.2011-09-06T222138Z.211.image_lev1.fits:   0%|          | 0.00/11.2M [00:00<?, ?B/s]"
      ],
      "application/vnd.jupyter.widget-view+json": {
       "version_major": 2,
       "version_minor": 0,
       "model_id": "01801f6dfc3e4ee4923a654e01d22f5c"
      }
     },
     "metadata": {},
     "output_type": "display_data"
    },
    {
     "data": {
      "text/plain": [
       "aia.lev1_euv_12s.2011-09-06T222152Z.211.image_lev1.fits:   0%|          | 0.00/8.17M [00:00<?, ?B/s]"
      ],
      "application/vnd.jupyter.widget-view+json": {
       "version_major": 2,
       "version_minor": 0,
       "model_id": "1662dd117d4445f1ada836e622300bb3"
      }
     },
     "metadata": {},
     "output_type": "display_data"
    },
    {
     "data": {
      "text/plain": [
       "aia.lev1_euv_12s.2011-09-06T222202Z.211.image_lev1.fits:   0%|          | 0.00/11.2M [00:00<?, ?B/s]"
      ],
      "application/vnd.jupyter.widget-view+json": {
       "version_major": 2,
       "version_minor": 0,
       "model_id": "2e97d5d01096493dadcb85878599f25d"
      }
     },
     "metadata": {},
     "output_type": "display_data"
    },
    {
     "data": {
      "text/plain": [
       "aia.lev1_euv_12s.2011-09-06T222216Z.211.image_lev1.fits:   0%|          | 0.00/8.31M [00:00<?, ?B/s]"
      ],
      "application/vnd.jupyter.widget-view+json": {
       "version_major": 2,
       "version_minor": 0,
       "model_id": "79210780ee1d46deb40cbeec4a8bfd2d"
      }
     },
     "metadata": {},
     "output_type": "display_data"
    },
    {
     "data": {
      "text/plain": [
       "aia.lev1_euv_12s.2011-09-06T222226Z.211.image_lev1.fits:   0%|          | 0.00/11.2M [00:00<?, ?B/s]"
      ],
      "application/vnd.jupyter.widget-view+json": {
       "version_major": 2,
       "version_minor": 0,
       "model_id": "dd85ae246cce4991a03ebaf5da71bf89"
      }
     },
     "metadata": {},
     "output_type": "display_data"
    },
    {
     "data": {
      "text/plain": [
       "aia.lev1_euv_12s.2011-09-06T222241Z.211.image_lev1.fits:   0%|          | 0.00/7.62M [00:00<?, ?B/s]"
      ],
      "application/vnd.jupyter.widget-view+json": {
       "version_major": 2,
       "version_minor": 0,
       "model_id": "df6c9534365c4693a7163037e7f6a2f6"
      }
     },
     "metadata": {},
     "output_type": "display_data"
    },
    {
     "data": {
      "text/plain": [
       "aia.lev1_euv_12s.2011-09-06T222250Z.211.image_lev1.fits:   0%|          | 0.00/11.2M [00:00<?, ?B/s]"
      ],
      "application/vnd.jupyter.widget-view+json": {
       "version_major": 2,
       "version_minor": 0,
       "model_id": "aa46ab7bc0e24b02a1b087ed28a83366"
      }
     },
     "metadata": {},
     "output_type": "display_data"
    },
    {
     "data": {
      "text/plain": [
       "aia.lev1_euv_12s.2011-09-06T222305Z.211.image_lev1.fits:   0%|          | 0.00/7.70M [00:00<?, ?B/s]"
      ],
      "application/vnd.jupyter.widget-view+json": {
       "version_major": 2,
       "version_minor": 0,
       "model_id": "da149a69ffe445ce84169a2d9564cf3d"
      }
     },
     "metadata": {},
     "output_type": "display_data"
    },
    {
     "data": {
      "text/plain": [
       "aia.lev1_euv_12s.2011-09-06T222314Z.211.image_lev1.fits:   0%|          | 0.00/11.2M [00:00<?, ?B/s]"
      ],
      "application/vnd.jupyter.widget-view+json": {
       "version_major": 2,
       "version_minor": 0,
       "model_id": "2013634a060e410880b20df7e20aed60"
      }
     },
     "metadata": {},
     "output_type": "display_data"
    },
    {
     "name": "stderr",
     "output_type": "stream",
     "text": [
      "WARNING: VerifyWarning: Invalid 'BLANK' keyword in header.  The 'BLANK' keyword is only applicable to integer data, and will be ignored in this HDU. [astropy.io.fits.hdu.image]\n",
      "2025-03-17 17:03:07 - astropy - WARNING: VerifyWarning: Invalid 'BLANK' keyword in header.  The 'BLANK' keyword is only applicable to integer data, and will be ignored in this HDU.\n"
     ]
    },
    {
     "name": "stdout",
     "output_type": "stream",
     "text": [
      "17:03:07 custom_sunpy_file_handler: binning active 2x2 pixel\n",
      "17:03:08 custom_sunpy_file_handler: process image: 1 of 16\n",
      "17:03:08 custom_sunpy_file_handler: process image: 2 of 16\n"
     ]
    },
    {
     "name": "stderr",
     "output_type": "stream",
     "text": [
      "2025-03-17 17:03:08 - reproject.common - INFO: Calling _reproject_full in non-dask mode\n",
      "WARNING: VerifyWarning: Verification reported errors: [astropy.io.fits.verify]\n",
      "2025-03-17 17:03:38 - astropy - WARNING: VerifyWarning: Verification reported errors:\n",
      "WARNING: VerifyWarning: HDU 0: [astropy.io.fits.verify]\n",
      "2025-03-17 17:03:38 - astropy - WARNING: VerifyWarning: HDU 0:\n",
      "WARNING: VerifyWarning:     'NAXIS1' card at the wrong place (card 29).  Fixed by moving it to the right place (card 3). [astropy.io.fits.verify]\n",
      "2025-03-17 17:03:38 - astropy - WARNING: VerifyWarning:     'NAXIS1' card at the wrong place (card 29).  Fixed by moving it to the right place (card 3).\n",
      "WARNING: VerifyWarning:     'NAXIS2' card at the wrong place (card 30).  Fixed by moving it to the right place (card 4). [astropy.io.fits.verify]\n",
      "2025-03-17 17:03:38 - astropy - WARNING: VerifyWarning:     'NAXIS2' card at the wrong place (card 30).  Fixed by moving it to the right place (card 4).\n",
      "WARNING: VerifyWarning: Note: astropy.io.fits uses zero-based indexing.\n",
      " [astropy.io.fits.verify]\n",
      "2025-03-17 17:03:38 - astropy - WARNING: VerifyWarning: Note: astropy.io.fits uses zero-based indexing.\n",
      "\n"
     ]
    },
    {
     "name": "stdout",
     "output_type": "stream",
     "text": [
      "17:03:38 custom_sunpy_file_handler: process image: 3 of 16\n",
      "17:03:39 custom_sunpy_file_handler: process image: 4 of 16\n"
     ]
    },
    {
     "name": "stderr",
     "output_type": "stream",
     "text": [
      "2025-03-17 17:03:39 - reproject.common - INFO: Calling _reproject_full in non-dask mode\n",
      "WARNING: VerifyWarning: Verification reported errors: [astropy.io.fits.verify]\n",
      "2025-03-17 17:04:06 - astropy - WARNING: VerifyWarning: Verification reported errors:\n",
      "WARNING: VerifyWarning: HDU 0: [astropy.io.fits.verify]\n",
      "2025-03-17 17:04:06 - astropy - WARNING: VerifyWarning: HDU 0:\n",
      "WARNING: VerifyWarning:     'NAXIS1' card at the wrong place (card 29).  Fixed by moving it to the right place (card 3). [astropy.io.fits.verify]\n",
      "2025-03-17 17:04:06 - astropy - WARNING: VerifyWarning:     'NAXIS1' card at the wrong place (card 29).  Fixed by moving it to the right place (card 3).\n",
      "WARNING: VerifyWarning:     'NAXIS2' card at the wrong place (card 30).  Fixed by moving it to the right place (card 4). [astropy.io.fits.verify]\n",
      "2025-03-17 17:04:06 - astropy - WARNING: VerifyWarning:     'NAXIS2' card at the wrong place (card 30).  Fixed by moving it to the right place (card 4).\n",
      "WARNING: VerifyWarning: Note: astropy.io.fits uses zero-based indexing.\n",
      " [astropy.io.fits.verify]\n",
      "2025-03-17 17:04:06 - astropy - WARNING: VerifyWarning: Note: astropy.io.fits uses zero-based indexing.\n",
      "\n"
     ]
    },
    {
     "name": "stdout",
     "output_type": "stream",
     "text": [
      "17:04:06 custom_sunpy_file_handler: process image: 5 of 16\n",
      "17:04:06 custom_sunpy_file_handler: process image: 6 of 16\n"
     ]
    },
    {
     "name": "stderr",
     "output_type": "stream",
     "text": [
      "2025-03-17 17:04:07 - reproject.common - INFO: Calling _reproject_full in non-dask mode\n",
      "WARNING: VerifyWarning: Verification reported errors: [astropy.io.fits.verify]\n",
      "2025-03-17 17:04:35 - astropy - WARNING: VerifyWarning: Verification reported errors:\n",
      "WARNING: VerifyWarning: HDU 0: [astropy.io.fits.verify]\n",
      "2025-03-17 17:04:35 - astropy - WARNING: VerifyWarning: HDU 0:\n",
      "WARNING: VerifyWarning:     'NAXIS1' card at the wrong place (card 29).  Fixed by moving it to the right place (card 3). [astropy.io.fits.verify]\n",
      "2025-03-17 17:04:35 - astropy - WARNING: VerifyWarning:     'NAXIS1' card at the wrong place (card 29).  Fixed by moving it to the right place (card 3).\n",
      "WARNING: VerifyWarning:     'NAXIS2' card at the wrong place (card 30).  Fixed by moving it to the right place (card 4). [astropy.io.fits.verify]\n",
      "2025-03-17 17:04:35 - astropy - WARNING: VerifyWarning:     'NAXIS2' card at the wrong place (card 30).  Fixed by moving it to the right place (card 4).\n",
      "WARNING: VerifyWarning: Note: astropy.io.fits uses zero-based indexing.\n",
      " [astropy.io.fits.verify]\n",
      "2025-03-17 17:04:35 - astropy - WARNING: VerifyWarning: Note: astropy.io.fits uses zero-based indexing.\n",
      "\n"
     ]
    },
    {
     "name": "stdout",
     "output_type": "stream",
     "text": [
      "17:04:35 custom_sunpy_file_handler: process image: 7 of 16\n",
      "17:04:35 custom_sunpy_file_handler: process image: 8 of 16\n"
     ]
    },
    {
     "name": "stderr",
     "output_type": "stream",
     "text": [
      "2025-03-17 17:04:35 - reproject.common - INFO: Calling _reproject_full in non-dask mode\n",
      "WARNING: VerifyWarning: Verification reported errors: [astropy.io.fits.verify]\n",
      "2025-03-17 17:05:02 - astropy - WARNING: VerifyWarning: Verification reported errors:\n",
      "WARNING: VerifyWarning: HDU 0: [astropy.io.fits.verify]\n",
      "2025-03-17 17:05:02 - astropy - WARNING: VerifyWarning: HDU 0:\n",
      "WARNING: VerifyWarning:     'NAXIS1' card at the wrong place (card 29).  Fixed by moving it to the right place (card 3). [astropy.io.fits.verify]\n",
      "2025-03-17 17:05:02 - astropy - WARNING: VerifyWarning:     'NAXIS1' card at the wrong place (card 29).  Fixed by moving it to the right place (card 3).\n",
      "WARNING: VerifyWarning:     'NAXIS2' card at the wrong place (card 30).  Fixed by moving it to the right place (card 4). [astropy.io.fits.verify]\n",
      "2025-03-17 17:05:02 - astropy - WARNING: VerifyWarning:     'NAXIS2' card at the wrong place (card 30).  Fixed by moving it to the right place (card 4).\n",
      "WARNING: VerifyWarning: Note: astropy.io.fits uses zero-based indexing.\n",
      " [astropy.io.fits.verify]\n",
      "2025-03-17 17:05:02 - astropy - WARNING: VerifyWarning: Note: astropy.io.fits uses zero-based indexing.\n",
      "\n"
     ]
    },
    {
     "name": "stdout",
     "output_type": "stream",
     "text": [
      "17:05:02 custom_sunpy_file_handler: process image: 9 of 16\n",
      "17:05:02 custom_sunpy_file_handler: process image: 10 of 16\n"
     ]
    },
    {
     "name": "stderr",
     "output_type": "stream",
     "text": [
      "2025-03-17 17:05:02 - reproject.common - INFO: Calling _reproject_full in non-dask mode\n",
      "WARNING: VerifyWarning: Verification reported errors: [astropy.io.fits.verify]\n",
      "2025-03-17 17:05:31 - astropy - WARNING: VerifyWarning: Verification reported errors:\n",
      "WARNING: VerifyWarning: HDU 0: [astropy.io.fits.verify]\n",
      "2025-03-17 17:05:31 - astropy - WARNING: VerifyWarning: HDU 0:\n",
      "WARNING: VerifyWarning:     'NAXIS1' card at the wrong place (card 29).  Fixed by moving it to the right place (card 3). [astropy.io.fits.verify]\n",
      "2025-03-17 17:05:31 - astropy - WARNING: VerifyWarning:     'NAXIS1' card at the wrong place (card 29).  Fixed by moving it to the right place (card 3).\n",
      "WARNING: VerifyWarning:     'NAXIS2' card at the wrong place (card 30).  Fixed by moving it to the right place (card 4). [astropy.io.fits.verify]\n",
      "2025-03-17 17:05:31 - astropy - WARNING: VerifyWarning:     'NAXIS2' card at the wrong place (card 30).  Fixed by moving it to the right place (card 4).\n",
      "WARNING: VerifyWarning: Note: astropy.io.fits uses zero-based indexing.\n",
      " [astropy.io.fits.verify]\n",
      "2025-03-17 17:05:31 - astropy - WARNING: VerifyWarning: Note: astropy.io.fits uses zero-based indexing.\n",
      "\n"
     ]
    },
    {
     "name": "stdout",
     "output_type": "stream",
     "text": [
      "17:05:31 custom_sunpy_file_handler: process image: 11 of 16\n",
      "17:05:31 custom_sunpy_file_handler: process image: 12 of 16\n"
     ]
    },
    {
     "name": "stderr",
     "output_type": "stream",
     "text": [
      "2025-03-17 17:05:31 - reproject.common - INFO: Calling _reproject_full in non-dask mode\n",
      "WARNING: VerifyWarning: Verification reported errors: [astropy.io.fits.verify]\n",
      "2025-03-17 17:05:59 - astropy - WARNING: VerifyWarning: Verification reported errors:\n",
      "WARNING: VerifyWarning: HDU 0: [astropy.io.fits.verify]\n",
      "2025-03-17 17:05:59 - astropy - WARNING: VerifyWarning: HDU 0:\n",
      "WARNING: VerifyWarning:     'NAXIS1' card at the wrong place (card 29).  Fixed by moving it to the right place (card 3). [astropy.io.fits.verify]\n",
      "2025-03-17 17:05:59 - astropy - WARNING: VerifyWarning:     'NAXIS1' card at the wrong place (card 29).  Fixed by moving it to the right place (card 3).\n",
      "WARNING: VerifyWarning:     'NAXIS2' card at the wrong place (card 30).  Fixed by moving it to the right place (card 4). [astropy.io.fits.verify]\n",
      "2025-03-17 17:05:59 - astropy - WARNING: VerifyWarning:     'NAXIS2' card at the wrong place (card 30).  Fixed by moving it to the right place (card 4).\n",
      "WARNING: VerifyWarning: Note: astropy.io.fits uses zero-based indexing.\n",
      " [astropy.io.fits.verify]\n",
      "2025-03-17 17:05:59 - astropy - WARNING: VerifyWarning: Note: astropy.io.fits uses zero-based indexing.\n",
      "\n"
     ]
    },
    {
     "name": "stdout",
     "output_type": "stream",
     "text": [
      "17:05:59 custom_sunpy_file_handler: process image: 13 of 16\n",
      "17:05:59 custom_sunpy_file_handler: process image: 14 of 16\n"
     ]
    },
    {
     "name": "stderr",
     "output_type": "stream",
     "text": [
      "2025-03-17 17:06:00 - reproject.common - INFO: Calling _reproject_full in non-dask mode\n",
      "WARNING: VerifyWarning: Verification reported errors: [astropy.io.fits.verify]\n",
      "2025-03-17 17:06:27 - astropy - WARNING: VerifyWarning: Verification reported errors:\n",
      "WARNING: VerifyWarning: HDU 0: [astropy.io.fits.verify]\n",
      "2025-03-17 17:06:27 - astropy - WARNING: VerifyWarning: HDU 0:\n",
      "WARNING: VerifyWarning:     'NAXIS1' card at the wrong place (card 29).  Fixed by moving it to the right place (card 3). [astropy.io.fits.verify]\n",
      "2025-03-17 17:06:27 - astropy - WARNING: VerifyWarning:     'NAXIS1' card at the wrong place (card 29).  Fixed by moving it to the right place (card 3).\n",
      "WARNING: VerifyWarning:     'NAXIS2' card at the wrong place (card 30).  Fixed by moving it to the right place (card 4). [astropy.io.fits.verify]\n",
      "2025-03-17 17:06:27 - astropy - WARNING: VerifyWarning:     'NAXIS2' card at the wrong place (card 30).  Fixed by moving it to the right place (card 4).\n",
      "WARNING: VerifyWarning: Note: astropy.io.fits uses zero-based indexing.\n",
      " [astropy.io.fits.verify]\n",
      "2025-03-17 17:06:27 - astropy - WARNING: VerifyWarning: Note: astropy.io.fits uses zero-based indexing.\n",
      "\n"
     ]
    },
    {
     "name": "stdout",
     "output_type": "stream",
     "text": [
      "17:06:27 custom_sunpy_file_handler: process image: 15 of 16\n",
      "17:06:27 custom_sunpy_file_handler: process image: 16 of 16\n"
     ]
    },
    {
     "name": "stderr",
     "output_type": "stream",
     "text": [
      "2025-03-17 17:06:27 - reproject.common - INFO: Calling _reproject_full in non-dask mode\n",
      "WARNING: VerifyWarning: Verification reported errors: [astropy.io.fits.verify]\n",
      "2025-03-17 17:06:53 - astropy - WARNING: VerifyWarning: Verification reported errors:\n",
      "WARNING: VerifyWarning: HDU 0: [astropy.io.fits.verify]\n",
      "2025-03-17 17:06:53 - astropy - WARNING: VerifyWarning: HDU 0:\n",
      "WARNING: VerifyWarning:     'NAXIS1' card at the wrong place (card 29).  Fixed by moving it to the right place (card 3). [astropy.io.fits.verify]\n",
      "2025-03-17 17:06:53 - astropy - WARNING: VerifyWarning:     'NAXIS1' card at the wrong place (card 29).  Fixed by moving it to the right place (card 3).\n",
      "WARNING: VerifyWarning:     'NAXIS2' card at the wrong place (card 30).  Fixed by moving it to the right place (card 4). [astropy.io.fits.verify]\n",
      "2025-03-17 17:06:53 - astropy - WARNING: VerifyWarning:     'NAXIS2' card at the wrong place (card 30).  Fixed by moving it to the right place (card 4).\n",
      "WARNING: VerifyWarning: Note: astropy.io.fits uses zero-based indexing.\n",
      " [astropy.io.fits.verify]\n",
      "2025-03-17 17:06:53 - astropy - WARNING: VerifyWarning: Note: astropy.io.fits uses zero-based indexing.\n",
      "\n"
     ]
    },
    {
     "name": "stdout",
     "output_type": "stream",
     "text": [
      "17:06:53 custom_sunpy_file_handler: Preprocessed input saved\n",
      "LVL_0_directory: Data_folder\\SOLERwave_2011-09-06T22_20_02-AIA_211AA\n"
     ]
    }
   ],
   "execution_count": 3
  },
  {
   "metadata": {},
   "cell_type": "markdown",
   "source": [
    "## Example 2: Use Existing Data\n",
    "\n",
    "The best way to use SOLERwave with existing data is by generating the default folder structure. For this 3 parameters have to be changed:\n",
    "- The path where the folder structure shall be created\n",
    "- The start time given by the first image in the sequence in format 'JJJJ-MM-DDThh:mm:ss'\n",
    "- The instrument_wavelength string: (e.g. SDO_AIA211AA, Kanzelhoehe_H_alpha, GONG_H_alpha_CerroTololo,SECHII_195AA)"
   ],
   "id": "508db7d92d498913"
  },
  {
   "metadata": {
    "ExecuteTime": {
     "end_time": "2025-03-17T15:53:18.858116Z",
     "start_time": "2025-03-17T15:52:51.232268Z"
    }
   },
   "cell_type": "code",
   "source": [
    "import os\n",
    "from SOLERwaves_custom_file_handler import create_preprocessed_input\n",
    "\n",
    "path_LVL_0 = create_folder_structure('test_folder', '2023-09-21T12:40:04', instrument_wavelength = 'Kanzelhoehe_H_alpha', tool_name='SOLERwave')\n",
    "print(path_LVL_0)"
   ],
   "id": "ffef8a0d97eedce6",
   "outputs": [
    {
     "name": "stderr",
     "output_type": "stream",
     "text": [
      "WARNING: VerifyWarning: Invalid 'BLANK' keyword in header.  The 'BLANK' keyword is only applicable to integer data, and will be ignored in this HDU. [astropy.io.fits.hdu.image]\n",
      "2025-03-17 16:53:11 - astropy - WARNING: VerifyWarning: Invalid 'BLANK' keyword in header.  The 'BLANK' keyword is only applicable to integer data, and will be ignored in this HDU.\n"
     ]
    },
    {
     "name": "stdout",
     "output_type": "stream",
     "text": [
      "16:53:11 custom_sunpy_file_handler: process image: 1 of 16\n",
      "16:53:12 custom_sunpy_file_handler: process image: 2 of 16\n"
     ]
    },
    {
     "name": "stderr",
     "output_type": "stream",
     "text": [
      "2025-03-17 16:53:12 - reproject.common - INFO: Calling _reproject_full in non-dask mode\n"
     ]
    },
    {
     "ename": "KeyboardInterrupt",
     "evalue": "",
     "output_type": "error",
     "traceback": [
      "\u001B[31m---------------------------------------------------------------------------\u001B[39m",
      "\u001B[31mKeyboardInterrupt\u001B[39m                         Traceback (most recent call last)",
      "\u001B[36mCell\u001B[39m\u001B[36m \u001B[39m\u001B[32mIn[1]\u001B[39m\u001B[32m, line 12\u001B[39m\n\u001B[32m      9\u001B[39m base_image_name = \u001B[38;5;28msorted\u001B[39m(os.listdir(path_LVL_1_0))[\u001B[32m0\u001B[39m]\n\u001B[32m     10\u001B[39m end_image_name = \u001B[38;5;28msorted\u001B[39m(os.listdir(path_LVL_1_0))[-\u001B[32m1\u001B[39m]\n\u001B[32m---> \u001B[39m\u001B[32m12\u001B[39m \u001B[43mcreate_preprocessed_input\u001B[49m\u001B[43m(\u001B[49m\u001B[43mpath_LVL_0\u001B[49m\u001B[43m,\u001B[49m\u001B[43m \u001B[49m\u001B[43mpath_LVL_1_0\u001B[49m\u001B[43m,\u001B[49m\u001B[43m \u001B[49m\u001B[43mbase_image_name\u001B[49m\u001B[43m,\u001B[49m\u001B[43m \u001B[49m\u001B[43mend_image_name\u001B[49m\u001B[43m,\u001B[49m\u001B[43m \u001B[49m\u001B[43mbinning\u001B[49m\u001B[43m=\u001B[49m\u001B[32;43m1\u001B[39;49m\u001B[43m,\u001B[49m\u001B[43mmin_exposure_time\u001B[49m\u001B[43m=\u001B[49m\u001B[32;43m1\u001B[39;49m\u001B[43m,\u001B[49m\u001B[43m \u001B[49m\u001B[43mInstrument_Name\u001B[49m\u001B[43m=\u001B[49m\u001B[33;43m'\u001B[39;49m\u001B[33;43maia\u001B[39;49m\u001B[33;43m'\u001B[39;49m\u001B[43m)\u001B[49m\n\u001B[32m     14\u001B[39m \u001B[38;5;28mprint\u001B[39m(\u001B[33m'\u001B[39m\u001B[33mLVL_0_directory: \u001B[39m\u001B[33m'\u001B[39m + path_LVL_0)\n",
      "\u001B[36mFile \u001B[39m\u001B[32m~\\PycharmProjects\\SOLERwave\\SOLERwaves_custom_file_handler.py:198\u001B[39m, in \u001B[36mcreate_preprocessed_input\u001B[39m\u001B[34m(path_LVL_0, fits_path, base_image_name, end_image_name, binning, min_exposure_time, Instrument_Name)\u001B[39m\n\u001B[32m    196\u001B[39m \u001B[38;5;66;03m# Differentialy rotate the images\u001B[39;00m\n\u001B[32m    197\u001B[39m \u001B[38;5;28;01mwith\u001B[39;00m propagate_with_solar_surface():\n\u001B[32m--> \u001B[39m\u001B[32m198\u001B[39m     m_temp2 = \u001B[43mm_temp\u001B[49m\u001B[43m.\u001B[49m\u001B[43mreproject_to\u001B[49m\u001B[43m(\u001B[49m\u001B[43mout_wcs\u001B[49m\u001B[43m)\u001B[49m\n\u001B[32m    201\u001B[39m \u001B[38;5;66;03m#########################################################\u001B[39;00m\n\u001B[32m    202\u001B[39m \u001B[38;5;66;03m# Base Ratio\u001B[39;00m\n\u001B[32m    203\u001B[39m \u001B[38;5;66;03m########################################################\u001B[39;00m\n\u001B[32m    205\u001B[39m i_map, j_map = m_base_data.shape\n",
      "\u001B[36mFile \u001B[39m\u001B[32m~\\PycharmProjects\\SOLERwave\\.venv\\Lib\\site-packages\\sunpy\\map\\mapbase.py:3088\u001B[39m, in \u001B[36mGenericMap.reproject_to\u001B[39m\u001B[34m(self, target_wcs, algorithm, return_footprint, **reproject_args)\u001B[39m\n\u001B[32m   3085\u001B[39m     reproject_args.setdefault(\u001B[33m'\u001B[39m\u001B[33mshape_out\u001B[39m\u001B[33m'\u001B[39m, target_wcs.array_shape)\n\u001B[32m   3087\u001B[39m \u001B[38;5;66;03m# Reproject the array\u001B[39;00m\n\u001B[32m-> \u001B[39m\u001B[32m3088\u001B[39m output_array = \u001B[43mfunc\u001B[49m\u001B[43m(\u001B[49m\u001B[38;5;28;43mself\u001B[39;49m\u001B[43m,\u001B[49m\u001B[43m \u001B[49m\u001B[43mtarget_wcs\u001B[49m\u001B[43m,\u001B[49m\u001B[43m \u001B[49m\u001B[43mreturn_footprint\u001B[49m\u001B[43m=\u001B[49m\u001B[43mreturn_footprint\u001B[49m\u001B[43m,\u001B[49m\u001B[43m \u001B[49m\u001B[43m*\u001B[49m\u001B[43m*\u001B[49m\u001B[43mreproject_args\u001B[49m\u001B[43m)\u001B[49m\n\u001B[32m   3089\u001B[39m \u001B[38;5;28;01mif\u001B[39;00m return_footprint:\n\u001B[32m   3090\u001B[39m     output_array, footprint = output_array\n",
      "\u001B[36mFile \u001B[39m\u001B[32m~\\PycharmProjects\\SOLERwave\\.venv\\Lib\\site-packages\\reproject\\interpolation\\high_level.py:132\u001B[39m, in \u001B[36mreproject_interp\u001B[39m\u001B[34m(input_data, output_projection, shape_out, hdu_in, order, roundtrip_coords, output_array, output_footprint, return_footprint, block_size, parallel, return_type)\u001B[39m\n\u001B[32m    128\u001B[39m     order = ORDER[order]\n\u001B[32m    130\u001B[39m \u001B[38;5;66;03m# TODO: add tests that actually ensure that order and roundtrip_coords work\u001B[39;00m\n\u001B[32m--> \u001B[39m\u001B[32m132\u001B[39m \u001B[38;5;28;01mreturn\u001B[39;00m \u001B[43m_reproject_dispatcher\u001B[49m\u001B[43m(\u001B[49m\n\u001B[32m    133\u001B[39m \u001B[43m    \u001B[49m\u001B[43m_reproject_full\u001B[49m\u001B[43m,\u001B[49m\n\u001B[32m    134\u001B[39m \u001B[43m    \u001B[49m\u001B[43marray_in\u001B[49m\u001B[43m=\u001B[49m\u001B[43marray_in\u001B[49m\u001B[43m,\u001B[49m\n\u001B[32m    135\u001B[39m \u001B[43m    \u001B[49m\u001B[43mwcs_in\u001B[49m\u001B[43m=\u001B[49m\u001B[43mwcs_in\u001B[49m\u001B[43m,\u001B[49m\n\u001B[32m    136\u001B[39m \u001B[43m    \u001B[49m\u001B[43mwcs_out\u001B[49m\u001B[43m=\u001B[49m\u001B[43mwcs_out\u001B[49m\u001B[43m,\u001B[49m\n\u001B[32m    137\u001B[39m \u001B[43m    \u001B[49m\u001B[43mshape_out\u001B[49m\u001B[43m=\u001B[49m\u001B[43mshape_out\u001B[49m\u001B[43m,\u001B[49m\n\u001B[32m    138\u001B[39m \u001B[43m    \u001B[49m\u001B[43marray_out\u001B[49m\u001B[43m=\u001B[49m\u001B[43moutput_array\u001B[49m\u001B[43m,\u001B[49m\n\u001B[32m    139\u001B[39m \u001B[43m    \u001B[49m\u001B[43mparallel\u001B[49m\u001B[43m=\u001B[49m\u001B[43mparallel\u001B[49m\u001B[43m,\u001B[49m\n\u001B[32m    140\u001B[39m \u001B[43m    \u001B[49m\u001B[43mblock_size\u001B[49m\u001B[43m=\u001B[49m\u001B[43mblock_size\u001B[49m\u001B[43m,\u001B[49m\n\u001B[32m    141\u001B[39m \u001B[43m    \u001B[49m\u001B[43mreturn_footprint\u001B[49m\u001B[43m=\u001B[49m\u001B[43mreturn_footprint\u001B[49m\u001B[43m,\u001B[49m\n\u001B[32m    142\u001B[39m \u001B[43m    \u001B[49m\u001B[43moutput_footprint\u001B[49m\u001B[43m=\u001B[49m\u001B[43moutput_footprint\u001B[49m\u001B[43m,\u001B[49m\n\u001B[32m    143\u001B[39m \u001B[43m    \u001B[49m\u001B[43mreproject_func_kwargs\u001B[49m\u001B[43m=\u001B[49m\u001B[38;5;28;43mdict\u001B[39;49m\u001B[43m(\u001B[49m\n\u001B[32m    144\u001B[39m \u001B[43m        \u001B[49m\u001B[43morder\u001B[49m\u001B[43m=\u001B[49m\u001B[43morder\u001B[49m\u001B[43m,\u001B[49m\n\u001B[32m    145\u001B[39m \u001B[43m        \u001B[49m\u001B[43mroundtrip_coords\u001B[49m\u001B[43m=\u001B[49m\u001B[43mroundtrip_coords\u001B[49m\u001B[43m,\u001B[49m\n\u001B[32m    146\u001B[39m \u001B[43m    \u001B[49m\u001B[43m)\u001B[49m\u001B[43m,\u001B[49m\n\u001B[32m    147\u001B[39m \u001B[43m    \u001B[49m\u001B[43mreturn_type\u001B[49m\u001B[43m=\u001B[49m\u001B[43mreturn_type\u001B[49m\u001B[43m,\u001B[49m\n\u001B[32m    148\u001B[39m \u001B[43m\u001B[49m\u001B[43m)\u001B[49m\n",
      "\u001B[36mFile \u001B[39m\u001B[32m~\\PycharmProjects\\SOLERwave\\.venv\\Lib\\site-packages\\reproject\\common.py:170\u001B[39m, in \u001B[36m_reproject_dispatcher\u001B[39m\u001B[34m(reproject_func, array_in, wcs_in, shape_out, wcs_out, block_size, array_out, return_footprint, output_footprint, parallel, reproject_func_kwargs, return_type)\u001B[39m\n\u001B[32m    167\u001B[39m logger.info(\u001B[33mf\u001B[39m\u001B[33m\"\u001B[39m\u001B[33mCalling \u001B[39m\u001B[38;5;132;01m{\u001B[39;00mreproject_func.\u001B[34m__name__\u001B[39m\u001B[38;5;132;01m}\u001B[39;00m\u001B[33m in non-dask mode\u001B[39m\u001B[33m\"\u001B[39m)\n\u001B[32m    169\u001B[39m \u001B[38;5;28;01mtry\u001B[39;00m:\n\u001B[32m--> \u001B[39m\u001B[32m170\u001B[39m     \u001B[38;5;28;01mreturn\u001B[39;00m \u001B[43mreproject_func\u001B[49m\u001B[43m(\u001B[49m\n\u001B[32m    171\u001B[39m \u001B[43m        \u001B[49m\u001B[43marray_in\u001B[49m\u001B[43m,\u001B[49m\n\u001B[32m    172\u001B[39m \u001B[43m        \u001B[49m\u001B[43mwcs_in\u001B[49m\u001B[43m,\u001B[49m\n\u001B[32m    173\u001B[39m \u001B[43m        \u001B[49m\u001B[43mwcs_out\u001B[49m\u001B[43m,\u001B[49m\n\u001B[32m    174\u001B[39m \u001B[43m        \u001B[49m\u001B[43mshape_out\u001B[49m\u001B[43m=\u001B[49m\u001B[43mshape_out\u001B[49m\u001B[43m,\u001B[49m\n\u001B[32m    175\u001B[39m \u001B[43m        \u001B[49m\u001B[43marray_out\u001B[49m\u001B[43m=\u001B[49m\u001B[43marray_out\u001B[49m\u001B[43m,\u001B[49m\n\u001B[32m    176\u001B[39m \u001B[43m        \u001B[49m\u001B[43mreturn_footprint\u001B[49m\u001B[43m=\u001B[49m\u001B[43mreturn_footprint\u001B[49m\u001B[43m,\u001B[49m\n\u001B[32m    177\u001B[39m \u001B[43m        \u001B[49m\u001B[43moutput_footprint\u001B[49m\u001B[43m=\u001B[49m\u001B[43moutput_footprint\u001B[49m\u001B[43m,\u001B[49m\n\u001B[32m    178\u001B[39m \u001B[43m        \u001B[49m\u001B[43m*\u001B[49m\u001B[43m*\u001B[49m\u001B[43mreproject_func_kwargs\u001B[49m\u001B[43m,\u001B[49m\n\u001B[32m    179\u001B[39m \u001B[43m    \u001B[49m\u001B[43m)\u001B[49m\n\u001B[32m    180\u001B[39m \u001B[38;5;28;01mfinally\u001B[39;00m:\n\u001B[32m    181\u001B[39m     \u001B[38;5;66;03m# Clean up reference to numpy memmap\u001B[39;00m\n\u001B[32m    182\u001B[39m     array_in = \u001B[38;5;28;01mNone\u001B[39;00m\n",
      "\u001B[36mFile \u001B[39m\u001B[32m~\\PycharmProjects\\SOLERwave\\.venv\\Lib\\site-packages\\reproject\\interpolation\\core.py:112\u001B[39m, in \u001B[36m_reproject_full\u001B[39m\u001B[34m(array, wcs_in, wcs_out, shape_out, order, array_out, return_footprint, roundtrip_coords, output_footprint)\u001B[39m\n\u001B[32m    110\u001B[39m \u001B[38;5;66;03m# For each pixel in the output array, get the pixel value in the input WCS\u001B[39;00m\n\u001B[32m    111\u001B[39m \u001B[38;5;28;01mif\u001B[39;00m roundtrip_coords:\n\u001B[32m--> \u001B[39m\u001B[32m112\u001B[39m     pixel_in = \u001B[43mpixel_to_pixel_with_roundtrip\u001B[49m\u001B[43m(\u001B[49m\u001B[43mwcs_out\u001B[49m\u001B[43m,\u001B[49m\u001B[43m \u001B[49m\u001B[43mwcs_in\u001B[49m\u001B[43m,\u001B[49m\u001B[43m \u001B[49m\u001B[43m*\u001B[49m\u001B[43mpixel_out\u001B[49m\u001B[43m[\u001B[49m\u001B[43m:\u001B[49m\u001B[43m:\u001B[49m\u001B[43m-\u001B[49m\u001B[32;43m1\u001B[39;49m\u001B[43m]\u001B[49m\u001B[43m)\u001B[49m[::-\u001B[32m1\u001B[39m]\n\u001B[32m    113\u001B[39m \u001B[38;5;28;01melse\u001B[39;00m:\n\u001B[32m    114\u001B[39m     pixel_in = pixel_to_pixel(wcs_out, wcs_in, *pixel_out[::-\u001B[32m1\u001B[39m])[::-\u001B[32m1\u001B[39m]\n",
      "\u001B[36mFile \u001B[39m\u001B[32m~\\PycharmProjects\\SOLERwave\\.venv\\Lib\\site-packages\\reproject\\wcs_utils.py:29\u001B[39m, in \u001B[36mpixel_to_pixel_with_roundtrip\u001B[39m\u001B[34m(wcs1, wcs2, *inputs)\u001B[39m\n\u001B[32m     28\u001B[39m \u001B[38;5;28;01mdef\u001B[39;00m\u001B[38;5;250m \u001B[39m\u001B[34mpixel_to_pixel_with_roundtrip\u001B[39m(wcs1, wcs2, *inputs):\n\u001B[32m---> \u001B[39m\u001B[32m29\u001B[39m     outputs = \u001B[43mpixel_to_pixel\u001B[49m\u001B[43m(\u001B[49m\u001B[43mwcs1\u001B[49m\u001B[43m,\u001B[49m\u001B[43m \u001B[49m\u001B[43mwcs2\u001B[49m\u001B[43m,\u001B[49m\u001B[43m \u001B[49m\u001B[43m*\u001B[49m\u001B[43minputs\u001B[49m\u001B[43m)\u001B[49m\n\u001B[32m     31\u001B[39m     \u001B[38;5;66;03m# Now convert back to check that coordinates round-trip, if not then set to NaN\u001B[39;00m\n\u001B[32m     32\u001B[39m     inputs_check = pixel_to_pixel(wcs2, wcs1, *outputs)\n",
      "\u001B[36mFile \u001B[39m\u001B[32m~\\PycharmProjects\\SOLERwave\\.venv\\Lib\\site-packages\\astropy\\wcs\\utils.py:937\u001B[39m, in \u001B[36mpixel_to_pixel\u001B[39m\u001B[34m(wcs_in, wcs_out, *inputs)\u001B[39m\n\u001B[32m    934\u001B[39m \u001B[38;5;28;01mif\u001B[39;00m \u001B[38;5;129;01mnot\u001B[39;00m \u001B[38;5;28misinstance\u001B[39m(world_outputs, (\u001B[38;5;28mtuple\u001B[39m, \u001B[38;5;28mlist\u001B[39m)):\n\u001B[32m    935\u001B[39m     world_outputs = (world_outputs,)\n\u001B[32m--> \u001B[39m\u001B[32m937\u001B[39m pixel_outputs = \u001B[43mwcs_out\u001B[49m\u001B[43m.\u001B[49m\u001B[43mworld_to_pixel\u001B[49m\u001B[43m(\u001B[49m\u001B[43m*\u001B[49m\u001B[43mworld_outputs\u001B[49m\u001B[43m)\u001B[49m\n\u001B[32m    939\u001B[39m \u001B[38;5;28;01mif\u001B[39;00m wcs_out.pixel_n_dim == \u001B[32m1\u001B[39m:\n\u001B[32m    940\u001B[39m     pixel_outputs = (pixel_outputs,)\n",
      "\u001B[36mFile \u001B[39m\u001B[32m~\\PycharmProjects\\SOLERwave\\.venv\\Lib\\site-packages\\astropy\\wcs\\wcsapi\\high_level_api.py:352\u001B[39m, in \u001B[36mHighLevelWCSMixin.world_to_pixel\u001B[39m\u001B[34m(self, *world_objects)\u001B[39m\n\u001B[32m    351\u001B[39m \u001B[38;5;28;01mdef\u001B[39;00m\u001B[38;5;250m \u001B[39m\u001B[34mworld_to_pixel\u001B[39m(\u001B[38;5;28mself\u001B[39m, *world_objects):\n\u001B[32m--> \u001B[39m\u001B[32m352\u001B[39m     world_values = \u001B[43mhigh_level_objects_to_values\u001B[49m\u001B[43m(\u001B[49m\n\u001B[32m    353\u001B[39m \u001B[43m        \u001B[49m\u001B[43m*\u001B[49m\u001B[43mworld_objects\u001B[49m\u001B[43m,\u001B[49m\u001B[43m \u001B[49m\u001B[43mlow_level_wcs\u001B[49m\u001B[43m=\u001B[49m\u001B[38;5;28;43mself\u001B[39;49m\u001B[43m.\u001B[49m\u001B[43mlow_level_wcs\u001B[49m\n\u001B[32m    354\u001B[39m \u001B[43m    \u001B[49m\u001B[43m)\u001B[49m\n\u001B[32m    356\u001B[39m     \u001B[38;5;66;03m# Finally we convert to pixel coordinates\u001B[39;00m\n\u001B[32m    357\u001B[39m     pixel_values = \u001B[38;5;28mself\u001B[39m.low_level_wcs.world_to_pixel_values(*world_values)\n",
      "\u001B[36mFile \u001B[39m\u001B[32m~\\PycharmProjects\\SOLERwave\\.venv\\Lib\\site-packages\\astropy\\wcs\\wcsapi\\high_level_api.py:212\u001B[39m, in \u001B[36mhigh_level_objects_to_values\u001B[39m\u001B[34m(low_level_wcs, *world_objects)\u001B[39m\n\u001B[32m    210\u001B[39m \u001B[38;5;28;01mif\u001B[39;00m \u001B[38;5;28misinstance\u001B[39m(world_by_key[key], SkyCoord):\n\u001B[32m    211\u001B[39m     \u001B[38;5;28;01mif\u001B[39;00m \u001B[33m\"\u001B[39m\u001B[33mframe\u001B[39m\u001B[33m\"\u001B[39m \u001B[38;5;129;01min\u001B[39;00m kwargs:\n\u001B[32m--> \u001B[39m\u001B[32m212\u001B[39m         objects[key] = \u001B[43mworld_by_key\u001B[49m\u001B[43m[\u001B[49m\u001B[43mkey\u001B[49m\u001B[43m]\u001B[49m\u001B[43m.\u001B[49m\u001B[43mtransform_to\u001B[49m\u001B[43m(\u001B[49m\u001B[43mkwargs\u001B[49m\u001B[43m[\u001B[49m\u001B[33;43m\"\u001B[39;49m\u001B[33;43mframe\u001B[39;49m\u001B[33;43m\"\u001B[39;49m\u001B[43m]\u001B[49m\u001B[43m)\u001B[49m\n\u001B[32m    213\u001B[39m     \u001B[38;5;28;01melse\u001B[39;00m:\n\u001B[32m    214\u001B[39m         objects[key] = world_by_key[key]\n",
      "\u001B[36mFile \u001B[39m\u001B[32m~\\PycharmProjects\\SOLERwave\\.venv\\Lib\\site-packages\\astropy\\coordinates\\sky_coordinate.py:555\u001B[39m, in \u001B[36mSkyCoord.transform_to\u001B[39m\u001B[34m(self, frame, merge_attributes)\u001B[39m\n\u001B[32m    551\u001B[39m generic_frame = GenericFrame(frame_kwargs)\n\u001B[32m    553\u001B[39m \u001B[38;5;66;03m# Do the transformation, returning a coordinate frame of the desired\u001B[39;00m\n\u001B[32m    554\u001B[39m \u001B[38;5;66;03m# final type (not generic).\u001B[39;00m\n\u001B[32m--> \u001B[39m\u001B[32m555\u001B[39m new_coord = \u001B[43mtrans\u001B[49m\u001B[43m(\u001B[49m\u001B[38;5;28;43mself\u001B[39;49m\u001B[43m.\u001B[49m\u001B[43mframe\u001B[49m\u001B[43m,\u001B[49m\u001B[43m \u001B[49m\u001B[43mgeneric_frame\u001B[49m\u001B[43m)\u001B[49m\n\u001B[32m    557\u001B[39m \u001B[38;5;66;03m# Finally make the new SkyCoord object from the `new_coord` and\u001B[39;00m\n\u001B[32m    558\u001B[39m \u001B[38;5;66;03m# remaining frame_kwargs that are not frame_attributes in `new_coord`.\u001B[39;00m\n\u001B[32m    559\u001B[39m \u001B[38;5;28;01mfor\u001B[39;00m attr \u001B[38;5;129;01min\u001B[39;00m \u001B[38;5;28mset\u001B[39m(new_coord.frame_attributes) & \u001B[38;5;28mset\u001B[39m(frame_kwargs.keys()):\n",
      "\u001B[36mFile \u001B[39m\u001B[32m~\\PycharmProjects\\SOLERwave\\.venv\\Lib\\site-packages\\astropy\\coordinates\\transformations\\composite.py:113\u001B[39m, in \u001B[36mCompositeTransform.__call__\u001B[39m\u001B[34m(self, fromcoord, toframe)\u001B[39m\n\u001B[32m    110\u001B[39m             frattrs[inter_frame_attr_nm] = attr\n\u001B[32m    112\u001B[39m     curr_toframe = t.tosys(**frattrs)\n\u001B[32m--> \u001B[39m\u001B[32m113\u001B[39m     curr_coord = \u001B[43mt\u001B[49m\u001B[43m(\u001B[49m\u001B[43mcurr_coord\u001B[49m\u001B[43m,\u001B[49m\u001B[43m \u001B[49m\u001B[43mcurr_toframe\u001B[49m\u001B[43m)\u001B[49m\n\u001B[32m    115\u001B[39m \u001B[38;5;66;03m# this is safe even in the case where self.transforms is empty, because\u001B[39;00m\n\u001B[32m    116\u001B[39m \u001B[38;5;66;03m# coordinate objects are immutable, so copying is not needed\u001B[39;00m\n\u001B[32m    117\u001B[39m \u001B[38;5;28;01mreturn\u001B[39;00m curr_coord\n",
      "\u001B[36mFile \u001B[39m\u001B[32m~\\PycharmProjects\\SOLERwave\\.venv\\Lib\\site-packages\\astropy\\coordinates\\transformations\\function.py:175\u001B[39m, in \u001B[36mFunctionTransformWithFiniteDifference.__call__\u001B[39m\u001B[34m(self, fromcoord, toframe)\u001B[39m\n\u001B[32m    173\u001B[39m supcall = \u001B[38;5;28mself\u001B[39m.func\n\u001B[32m    174\u001B[39m \u001B[38;5;28;01mif\u001B[39;00m \u001B[38;5;129;01mnot\u001B[39;00m fromcoord.data.differentials:\n\u001B[32m--> \u001B[39m\u001B[32m175\u001B[39m     \u001B[38;5;28;01mreturn\u001B[39;00m \u001B[43msupcall\u001B[49m\u001B[43m(\u001B[49m\u001B[43mfromcoord\u001B[49m\u001B[43m,\u001B[49m\u001B[43m \u001B[49m\u001B[43mtoframe\u001B[49m\u001B[43m)\u001B[49m\n\u001B[32m    176\u001B[39m \u001B[38;5;66;03m# this is the finite difference case\u001B[39;00m\n\u001B[32m    178\u001B[39m \u001B[38;5;28;01mif\u001B[39;00m \u001B[38;5;28mcallable\u001B[39m(\u001B[38;5;28mself\u001B[39m.finite_difference_dt):\n",
      "\u001B[36mFile \u001B[39m\u001B[32m~\\PycharmProjects\\SOLERwave\\.venv\\Lib\\site-packages\\sunpy\\coordinates\\_transformations.py:256\u001B[39m, in \u001B[36m_transformation_debug.<locals>.decorator.<locals>.wrapped_func\u001B[39m\u001B[34m(*args, **kwargs)\u001B[39m\n\u001B[32m    253\u001B[39m     \u001B[38;5;66;03m# Increment the layer level to increase the indentation for nested transformations\u001B[39;00m\n\u001B[32m    254\u001B[39m     _layer_level += \u001B[32m1\u001B[39m\n\u001B[32m--> \u001B[39m\u001B[32m256\u001B[39m result = \u001B[43mfunc\u001B[49m\u001B[43m(\u001B[49m\u001B[43m*\u001B[49m\u001B[43margs\u001B[49m\u001B[43m,\u001B[49m\u001B[43m \u001B[49m\u001B[43m*\u001B[49m\u001B[43m*\u001B[49m\u001B[43mkwargs\u001B[49m\u001B[43m)\u001B[49m\n\u001B[32m    258\u001B[39m \u001B[38;5;28;01mif\u001B[39;00m debug_output:\n\u001B[32m    259\u001B[39m     \u001B[38;5;66;03m# Decrement the layer level\u001B[39;00m\n\u001B[32m    260\u001B[39m     _layer_level -= \u001B[32m1\u001B[39m\n",
      "\u001B[36mFile \u001B[39m\u001B[32m~\\PycharmProjects\\SOLERwave\\.venv\\Lib\\site-packages\\sunpy\\coordinates\\_transformations.py:579\u001B[39m, in \u001B[36mhpc_to_hpc\u001B[39m\u001B[34m(from_coo, to_frame)\u001B[39m\n\u001B[32m    576\u001B[39m _check_observer_defined(from_coo)\n\u001B[32m    577\u001B[39m _check_observer_defined(to_frame)\n\u001B[32m--> \u001B[39m\u001B[32m579\u001B[39m hgs = \u001B[43mfrom_coo\u001B[49m\u001B[43m.\u001B[49m\u001B[43mtransform_to\u001B[49m\u001B[43m(\u001B[49m\u001B[43mHeliographicStonyhurst\u001B[49m\u001B[43m(\u001B[49m\u001B[43mobstime\u001B[49m\u001B[43m=\u001B[49m\u001B[43mto_frame\u001B[49m\u001B[43m.\u001B[49m\u001B[43mobstime\u001B[49m\u001B[43m)\u001B[49m\u001B[43m)\u001B[49m\n\u001B[32m    580\u001B[39m hpc = hgs.transform_to(to_frame)\n\u001B[32m    582\u001B[39m \u001B[38;5;28;01mreturn\u001B[39;00m hpc\n",
      "\u001B[36mFile \u001B[39m\u001B[32m~\\PycharmProjects\\SOLERwave\\.venv\\Lib\\site-packages\\astropy\\coordinates\\baseframe.py:1496\u001B[39m, in \u001B[36mBaseCoordinateFrame.transform_to\u001B[39m\u001B[34m(self, new_frame)\u001B[39m\n\u001B[32m   1494\u001B[39m     msg = \u001B[33m\"\u001B[39m\u001B[33mCannot transform from \u001B[39m\u001B[38;5;132;01m{0}\u001B[39;00m\u001B[33m to \u001B[39m\u001B[38;5;132;01m{1}\u001B[39;00m\u001B[33m\"\u001B[39m\n\u001B[32m   1495\u001B[39m     \u001B[38;5;28;01mraise\u001B[39;00m ConvertError(msg.format(\u001B[38;5;28mself\u001B[39m.\u001B[34m__class__\u001B[39m, new_frame.\u001B[34m__class__\u001B[39m))\n\u001B[32m-> \u001B[39m\u001B[32m1496\u001B[39m \u001B[38;5;28;01mreturn\u001B[39;00m \u001B[43mtrans\u001B[49m\u001B[43m(\u001B[49m\u001B[38;5;28;43mself\u001B[39;49m\u001B[43m,\u001B[49m\u001B[43m \u001B[49m\u001B[43mnew_frame\u001B[49m\u001B[43m)\u001B[49m\n",
      "\u001B[36mFile \u001B[39m\u001B[32m~\\PycharmProjects\\SOLERwave\\.venv\\Lib\\site-packages\\astropy\\coordinates\\transformations\\composite.py:113\u001B[39m, in \u001B[36mCompositeTransform.__call__\u001B[39m\u001B[34m(self, fromcoord, toframe)\u001B[39m\n\u001B[32m    110\u001B[39m             frattrs[inter_frame_attr_nm] = attr\n\u001B[32m    112\u001B[39m     curr_toframe = t.tosys(**frattrs)\n\u001B[32m--> \u001B[39m\u001B[32m113\u001B[39m     curr_coord = \u001B[43mt\u001B[49m\u001B[43m(\u001B[49m\u001B[43mcurr_coord\u001B[49m\u001B[43m,\u001B[49m\u001B[43m \u001B[49m\u001B[43mcurr_toframe\u001B[49m\u001B[43m)\u001B[49m\n\u001B[32m    115\u001B[39m \u001B[38;5;66;03m# this is safe even in the case where self.transforms is empty, because\u001B[39;00m\n\u001B[32m    116\u001B[39m \u001B[38;5;66;03m# coordinate objects are immutable, so copying is not needed\u001B[39;00m\n\u001B[32m    117\u001B[39m \u001B[38;5;28;01mreturn\u001B[39;00m curr_coord\n",
      "\u001B[36mFile \u001B[39m\u001B[32m~\\PycharmProjects\\SOLERwave\\.venv\\Lib\\site-packages\\astropy\\coordinates\\transformations\\function.py:175\u001B[39m, in \u001B[36mFunctionTransformWithFiniteDifference.__call__\u001B[39m\u001B[34m(self, fromcoord, toframe)\u001B[39m\n\u001B[32m    173\u001B[39m supcall = \u001B[38;5;28mself\u001B[39m.func\n\u001B[32m    174\u001B[39m \u001B[38;5;28;01mif\u001B[39;00m \u001B[38;5;129;01mnot\u001B[39;00m fromcoord.data.differentials:\n\u001B[32m--> \u001B[39m\u001B[32m175\u001B[39m     \u001B[38;5;28;01mreturn\u001B[39;00m \u001B[43msupcall\u001B[49m\u001B[43m(\u001B[49m\u001B[43mfromcoord\u001B[49m\u001B[43m,\u001B[49m\u001B[43m \u001B[49m\u001B[43mtoframe\u001B[49m\u001B[43m)\u001B[49m\n\u001B[32m    176\u001B[39m \u001B[38;5;66;03m# this is the finite difference case\u001B[39;00m\n\u001B[32m    178\u001B[39m \u001B[38;5;28;01mif\u001B[39;00m \u001B[38;5;28mcallable\u001B[39m(\u001B[38;5;28mself\u001B[39m.finite_difference_dt):\n",
      "\u001B[36mFile \u001B[39m\u001B[32m~\\PycharmProjects\\SOLERwave\\.venv\\Lib\\site-packages\\sunpy\\coordinates\\_transformations.py:256\u001B[39m, in \u001B[36m_transformation_debug.<locals>.decorator.<locals>.wrapped_func\u001B[39m\u001B[34m(*args, **kwargs)\u001B[39m\n\u001B[32m    253\u001B[39m     \u001B[38;5;66;03m# Increment the layer level to increase the indentation for nested transformations\u001B[39;00m\n\u001B[32m    254\u001B[39m     _layer_level += \u001B[32m1\u001B[39m\n\u001B[32m--> \u001B[39m\u001B[32m256\u001B[39m result = \u001B[43mfunc\u001B[49m\u001B[43m(\u001B[49m\u001B[43m*\u001B[49m\u001B[43margs\u001B[49m\u001B[43m,\u001B[49m\u001B[43m \u001B[49m\u001B[43m*\u001B[49m\u001B[43m*\u001B[49m\u001B[43mkwargs\u001B[49m\u001B[43m)\u001B[49m\n\u001B[32m    258\u001B[39m \u001B[38;5;28;01mif\u001B[39;00m debug_output:\n\u001B[32m    259\u001B[39m     \u001B[38;5;66;03m# Decrement the layer level\u001B[39;00m\n\u001B[32m    260\u001B[39m     _layer_level -= \u001B[32m1\u001B[39m\n",
      "\u001B[36mFile \u001B[39m\u001B[32m~\\PycharmProjects\\SOLERwave\\.venv\\Lib\\site-packages\\sunpy\\coordinates\\_transformations.py:491\u001B[39m, in \u001B[36mhpc_to_hcc\u001B[39m\u001B[34m(heliopcoord, heliocframe)\u001B[39m\n\u001B[32m    488\u001B[39m int_coord = Heliocentric(newrepr, obstime=observer.obstime, observer=observer)\n\u001B[32m    490\u001B[39m \u001B[38;5;66;03m# Loopback transform HCC as needed\u001B[39;00m\n\u001B[32m--> \u001B[39m\u001B[32m491\u001B[39m \u001B[38;5;28;01mreturn\u001B[39;00m \u001B[43mint_coord\u001B[49m\u001B[43m.\u001B[49m\u001B[43mtransform_to\u001B[49m\u001B[43m(\u001B[49m\u001B[43mheliocframe\u001B[49m\u001B[43m)\u001B[49m\n",
      "\u001B[36mFile \u001B[39m\u001B[32m~\\PycharmProjects\\SOLERwave\\.venv\\Lib\\site-packages\\astropy\\coordinates\\baseframe.py:1496\u001B[39m, in \u001B[36mBaseCoordinateFrame.transform_to\u001B[39m\u001B[34m(self, new_frame)\u001B[39m\n\u001B[32m   1494\u001B[39m     msg = \u001B[33m\"\u001B[39m\u001B[33mCannot transform from \u001B[39m\u001B[38;5;132;01m{0}\u001B[39;00m\u001B[33m to \u001B[39m\u001B[38;5;132;01m{1}\u001B[39;00m\u001B[33m\"\u001B[39m\n\u001B[32m   1495\u001B[39m     \u001B[38;5;28;01mraise\u001B[39;00m ConvertError(msg.format(\u001B[38;5;28mself\u001B[39m.\u001B[34m__class__\u001B[39m, new_frame.\u001B[34m__class__\u001B[39m))\n\u001B[32m-> \u001B[39m\u001B[32m1496\u001B[39m \u001B[38;5;28;01mreturn\u001B[39;00m \u001B[43mtrans\u001B[49m\u001B[43m(\u001B[49m\u001B[38;5;28;43mself\u001B[39;49m\u001B[43m,\u001B[49m\u001B[43m \u001B[49m\u001B[43mnew_frame\u001B[49m\u001B[43m)\u001B[49m\n",
      "\u001B[36mFile \u001B[39m\u001B[32m~\\PycharmProjects\\SOLERwave\\.venv\\Lib\\site-packages\\astropy\\coordinates\\transformations\\composite.py:113\u001B[39m, in \u001B[36mCompositeTransform.__call__\u001B[39m\u001B[34m(self, fromcoord, toframe)\u001B[39m\n\u001B[32m    110\u001B[39m             frattrs[inter_frame_attr_nm] = attr\n\u001B[32m    112\u001B[39m     curr_toframe = t.tosys(**frattrs)\n\u001B[32m--> \u001B[39m\u001B[32m113\u001B[39m     curr_coord = \u001B[43mt\u001B[49m\u001B[43m(\u001B[49m\u001B[43mcurr_coord\u001B[49m\u001B[43m,\u001B[49m\u001B[43m \u001B[49m\u001B[43mcurr_toframe\u001B[49m\u001B[43m)\u001B[49m\n\u001B[32m    115\u001B[39m \u001B[38;5;66;03m# this is safe even in the case where self.transforms is empty, because\u001B[39;00m\n\u001B[32m    116\u001B[39m \u001B[38;5;66;03m# coordinate objects are immutable, so copying is not needed\u001B[39;00m\n\u001B[32m    117\u001B[39m \u001B[38;5;28;01mreturn\u001B[39;00m curr_coord\n",
      "\u001B[36mFile \u001B[39m\u001B[32m~\\PycharmProjects\\SOLERwave\\.venv\\Lib\\site-packages\\astropy\\coordinates\\transformations\\function.py:175\u001B[39m, in \u001B[36mFunctionTransformWithFiniteDifference.__call__\u001B[39m\u001B[34m(self, fromcoord, toframe)\u001B[39m\n\u001B[32m    173\u001B[39m supcall = \u001B[38;5;28mself\u001B[39m.func\n\u001B[32m    174\u001B[39m \u001B[38;5;28;01mif\u001B[39;00m \u001B[38;5;129;01mnot\u001B[39;00m fromcoord.data.differentials:\n\u001B[32m--> \u001B[39m\u001B[32m175\u001B[39m     \u001B[38;5;28;01mreturn\u001B[39;00m \u001B[43msupcall\u001B[49m\u001B[43m(\u001B[49m\u001B[43mfromcoord\u001B[49m\u001B[43m,\u001B[49m\u001B[43m \u001B[49m\u001B[43mtoframe\u001B[49m\u001B[43m)\u001B[49m\n\u001B[32m    176\u001B[39m \u001B[38;5;66;03m# this is the finite difference case\u001B[39;00m\n\u001B[32m    178\u001B[39m \u001B[38;5;28;01mif\u001B[39;00m \u001B[38;5;28mcallable\u001B[39m(\u001B[38;5;28mself\u001B[39m.finite_difference_dt):\n",
      "\u001B[36mFile \u001B[39m\u001B[32m~\\PycharmProjects\\SOLERwave\\.venv\\Lib\\site-packages\\sunpy\\coordinates\\_transformations.py:256\u001B[39m, in \u001B[36m_transformation_debug.<locals>.decorator.<locals>.wrapped_func\u001B[39m\u001B[34m(*args, **kwargs)\u001B[39m\n\u001B[32m    253\u001B[39m     \u001B[38;5;66;03m# Increment the layer level to increase the indentation for nested transformations\u001B[39;00m\n\u001B[32m    254\u001B[39m     _layer_level += \u001B[32m1\u001B[39m\n\u001B[32m--> \u001B[39m\u001B[32m256\u001B[39m result = \u001B[43mfunc\u001B[49m\u001B[43m(\u001B[49m\u001B[43m*\u001B[49m\u001B[43margs\u001B[49m\u001B[43m,\u001B[49m\u001B[43m \u001B[49m\u001B[43m*\u001B[49m\u001B[43m*\u001B[49m\u001B[43mkwargs\u001B[49m\u001B[43m)\u001B[49m\n\u001B[32m    258\u001B[39m \u001B[38;5;28;01mif\u001B[39;00m debug_output:\n\u001B[32m    259\u001B[39m     \u001B[38;5;66;03m# Decrement the layer level\u001B[39;00m\n\u001B[32m    260\u001B[39m     _layer_level -= \u001B[32m1\u001B[39m\n",
      "\u001B[36mFile \u001B[39m\u001B[32m~\\PycharmProjects\\SOLERwave\\.venv\\Lib\\site-packages\\sunpy\\coordinates\\_transformations.py:847\u001B[39m, in \u001B[36mhcc_to_hcc\u001B[39m\u001B[34m(from_coo, to_frame)\u001B[39m\n\u001B[32m    844\u001B[39m _check_observer_defined(to_frame)\n\u001B[32m    846\u001B[39m \u001B[38;5;66;03m# Convert through HGS\u001B[39;00m\n\u001B[32m--> \u001B[39m\u001B[32m847\u001B[39m hgscoord = \u001B[43mfrom_coo\u001B[49m\u001B[43m.\u001B[49m\u001B[43mtransform_to\u001B[49m\u001B[43m(\u001B[49m\u001B[43mHeliographicStonyhurst\u001B[49m\u001B[43m(\u001B[49m\u001B[43mobstime\u001B[49m\u001B[43m=\u001B[49m\u001B[43mto_frame\u001B[49m\u001B[43m.\u001B[49m\u001B[43mobstime\u001B[49m\u001B[43m)\u001B[49m\u001B[43m)\u001B[49m\n\u001B[32m    849\u001B[39m \u001B[38;5;28;01mreturn\u001B[39;00m hgscoord.transform_to(to_frame)\n",
      "\u001B[36mFile \u001B[39m\u001B[32m~\\PycharmProjects\\SOLERwave\\.venv\\Lib\\site-packages\\astropy\\coordinates\\baseframe.py:1496\u001B[39m, in \u001B[36mBaseCoordinateFrame.transform_to\u001B[39m\u001B[34m(self, new_frame)\u001B[39m\n\u001B[32m   1494\u001B[39m     msg = \u001B[33m\"\u001B[39m\u001B[33mCannot transform from \u001B[39m\u001B[38;5;132;01m{0}\u001B[39;00m\u001B[33m to \u001B[39m\u001B[38;5;132;01m{1}\u001B[39;00m\u001B[33m\"\u001B[39m\n\u001B[32m   1495\u001B[39m     \u001B[38;5;28;01mraise\u001B[39;00m ConvertError(msg.format(\u001B[38;5;28mself\u001B[39m.\u001B[34m__class__\u001B[39m, new_frame.\u001B[34m__class__\u001B[39m))\n\u001B[32m-> \u001B[39m\u001B[32m1496\u001B[39m \u001B[38;5;28;01mreturn\u001B[39;00m \u001B[43mtrans\u001B[49m\u001B[43m(\u001B[49m\u001B[38;5;28;43mself\u001B[39;49m\u001B[43m,\u001B[49m\u001B[43m \u001B[49m\u001B[43mnew_frame\u001B[49m\u001B[43m)\u001B[49m\n",
      "\u001B[36mFile \u001B[39m\u001B[32m~\\PycharmProjects\\SOLERwave\\.venv\\Lib\\site-packages\\astropy\\coordinates\\transformations\\composite.py:113\u001B[39m, in \u001B[36mCompositeTransform.__call__\u001B[39m\u001B[34m(self, fromcoord, toframe)\u001B[39m\n\u001B[32m    110\u001B[39m             frattrs[inter_frame_attr_nm] = attr\n\u001B[32m    112\u001B[39m     curr_toframe = t.tosys(**frattrs)\n\u001B[32m--> \u001B[39m\u001B[32m113\u001B[39m     curr_coord = \u001B[43mt\u001B[49m\u001B[43m(\u001B[49m\u001B[43mcurr_coord\u001B[49m\u001B[43m,\u001B[49m\u001B[43m \u001B[49m\u001B[43mcurr_toframe\u001B[49m\u001B[43m)\u001B[49m\n\u001B[32m    115\u001B[39m \u001B[38;5;66;03m# this is safe even in the case where self.transforms is empty, because\u001B[39;00m\n\u001B[32m    116\u001B[39m \u001B[38;5;66;03m# coordinate objects are immutable, so copying is not needed\u001B[39;00m\n\u001B[32m    117\u001B[39m \u001B[38;5;28;01mreturn\u001B[39;00m curr_coord\n",
      "\u001B[36mFile \u001B[39m\u001B[32m~\\PycharmProjects\\SOLERwave\\.venv\\Lib\\site-packages\\astropy\\coordinates\\transformations\\function.py:175\u001B[39m, in \u001B[36mFunctionTransformWithFiniteDifference.__call__\u001B[39m\u001B[34m(self, fromcoord, toframe)\u001B[39m\n\u001B[32m    173\u001B[39m supcall = \u001B[38;5;28mself\u001B[39m.func\n\u001B[32m    174\u001B[39m \u001B[38;5;28;01mif\u001B[39;00m \u001B[38;5;129;01mnot\u001B[39;00m fromcoord.data.differentials:\n\u001B[32m--> \u001B[39m\u001B[32m175\u001B[39m     \u001B[38;5;28;01mreturn\u001B[39;00m \u001B[43msupcall\u001B[49m\u001B[43m(\u001B[49m\u001B[43mfromcoord\u001B[49m\u001B[43m,\u001B[49m\u001B[43m \u001B[49m\u001B[43mtoframe\u001B[49m\u001B[43m)\u001B[49m\n\u001B[32m    176\u001B[39m \u001B[38;5;66;03m# this is the finite difference case\u001B[39;00m\n\u001B[32m    178\u001B[39m \u001B[38;5;28;01mif\u001B[39;00m \u001B[38;5;28mcallable\u001B[39m(\u001B[38;5;28mself\u001B[39m.finite_difference_dt):\n",
      "\u001B[36mFile \u001B[39m\u001B[32m~\\PycharmProjects\\SOLERwave\\.venv\\Lib\\site-packages\\sunpy\\coordinates\\_transformations.py:256\u001B[39m, in \u001B[36m_transformation_debug.<locals>.decorator.<locals>.wrapped_func\u001B[39m\u001B[34m(*args, **kwargs)\u001B[39m\n\u001B[32m    253\u001B[39m     \u001B[38;5;66;03m# Increment the layer level to increase the indentation for nested transformations\u001B[39;00m\n\u001B[32m    254\u001B[39m     _layer_level += \u001B[32m1\u001B[39m\n\u001B[32m--> \u001B[39m\u001B[32m256\u001B[39m result = \u001B[43mfunc\u001B[49m\u001B[43m(\u001B[49m\u001B[43m*\u001B[49m\u001B[43margs\u001B[49m\u001B[43m,\u001B[49m\u001B[43m \u001B[49m\u001B[43m*\u001B[49m\u001B[43m*\u001B[49m\u001B[43mkwargs\u001B[49m\u001B[43m)\u001B[49m\n\u001B[32m    258\u001B[39m \u001B[38;5;28;01mif\u001B[39;00m debug_output:\n\u001B[32m    259\u001B[39m     \u001B[38;5;66;03m# Decrement the layer level\u001B[39;00m\n\u001B[32m    260\u001B[39m     _layer_level -= \u001B[32m1\u001B[39m\n",
      "\u001B[36mFile \u001B[39m\u001B[32m~\\PycharmProjects\\SOLERwave\\.venv\\Lib\\site-packages\\sunpy\\coordinates\\_transformations.py:536\u001B[39m, in \u001B[36mhcc_to_hgs\u001B[39m\u001B[34m(helioccoord, heliogframe)\u001B[39m\n\u001B[32m    533\u001B[39m     int_coord = int_coord.replicate(obstime=heliogframe.obstime)\n\u001B[32m    535\u001B[39m \u001B[38;5;66;03m# Loopback transform HGS as needed\u001B[39;00m\n\u001B[32m--> \u001B[39m\u001B[32m536\u001B[39m \u001B[38;5;28;01mreturn\u001B[39;00m \u001B[43mint_coord\u001B[49m\u001B[43m.\u001B[49m\u001B[43mtransform_to\u001B[49m\u001B[43m(\u001B[49m\u001B[43mheliogframe\u001B[49m\u001B[43m)\u001B[49m\n",
      "\u001B[36mFile \u001B[39m\u001B[32m~\\PycharmProjects\\SOLERwave\\.venv\\Lib\\site-packages\\astropy\\coordinates\\baseframe.py:1496\u001B[39m, in \u001B[36mBaseCoordinateFrame.transform_to\u001B[39m\u001B[34m(self, new_frame)\u001B[39m\n\u001B[32m   1494\u001B[39m     msg = \u001B[33m\"\u001B[39m\u001B[33mCannot transform from \u001B[39m\u001B[38;5;132;01m{0}\u001B[39;00m\u001B[33m to \u001B[39m\u001B[38;5;132;01m{1}\u001B[39;00m\u001B[33m\"\u001B[39m\n\u001B[32m   1495\u001B[39m     \u001B[38;5;28;01mraise\u001B[39;00m ConvertError(msg.format(\u001B[38;5;28mself\u001B[39m.\u001B[34m__class__\u001B[39m, new_frame.\u001B[34m__class__\u001B[39m))\n\u001B[32m-> \u001B[39m\u001B[32m1496\u001B[39m \u001B[38;5;28;01mreturn\u001B[39;00m \u001B[43mtrans\u001B[49m\u001B[43m(\u001B[49m\u001B[38;5;28;43mself\u001B[39;49m\u001B[43m,\u001B[49m\u001B[43m \u001B[49m\u001B[43mnew_frame\u001B[49m\u001B[43m)\u001B[49m\n",
      "\u001B[36mFile \u001B[39m\u001B[32m~\\PycharmProjects\\SOLERwave\\.venv\\Lib\\site-packages\\astropy\\coordinates\\transformations\\composite.py:113\u001B[39m, in \u001B[36mCompositeTransform.__call__\u001B[39m\u001B[34m(self, fromcoord, toframe)\u001B[39m\n\u001B[32m    110\u001B[39m             frattrs[inter_frame_attr_nm] = attr\n\u001B[32m    112\u001B[39m     curr_toframe = t.tosys(**frattrs)\n\u001B[32m--> \u001B[39m\u001B[32m113\u001B[39m     curr_coord = \u001B[43mt\u001B[49m\u001B[43m(\u001B[49m\u001B[43mcurr_coord\u001B[49m\u001B[43m,\u001B[49m\u001B[43m \u001B[49m\u001B[43mcurr_toframe\u001B[49m\u001B[43m)\u001B[49m\n\u001B[32m    115\u001B[39m \u001B[38;5;66;03m# this is safe even in the case where self.transforms is empty, because\u001B[39;00m\n\u001B[32m    116\u001B[39m \u001B[38;5;66;03m# coordinate objects are immutable, so copying is not needed\u001B[39;00m\n\u001B[32m    117\u001B[39m \u001B[38;5;28;01mreturn\u001B[39;00m curr_coord\n",
      "\u001B[36mFile \u001B[39m\u001B[32m~\\PycharmProjects\\SOLERwave\\.venv\\Lib\\site-packages\\astropy\\coordinates\\transformations\\function.py:175\u001B[39m, in \u001B[36mFunctionTransformWithFiniteDifference.__call__\u001B[39m\u001B[34m(self, fromcoord, toframe)\u001B[39m\n\u001B[32m    173\u001B[39m supcall = \u001B[38;5;28mself\u001B[39m.func\n\u001B[32m    174\u001B[39m \u001B[38;5;28;01mif\u001B[39;00m \u001B[38;5;129;01mnot\u001B[39;00m fromcoord.data.differentials:\n\u001B[32m--> \u001B[39m\u001B[32m175\u001B[39m     \u001B[38;5;28;01mreturn\u001B[39;00m \u001B[43msupcall\u001B[49m\u001B[43m(\u001B[49m\u001B[43mfromcoord\u001B[49m\u001B[43m,\u001B[49m\u001B[43m \u001B[49m\u001B[43mtoframe\u001B[49m\u001B[43m)\u001B[49m\n\u001B[32m    176\u001B[39m \u001B[38;5;66;03m# this is the finite difference case\u001B[39;00m\n\u001B[32m    178\u001B[39m \u001B[38;5;28;01mif\u001B[39;00m \u001B[38;5;28mcallable\u001B[39m(\u001B[38;5;28mself\u001B[39m.finite_difference_dt):\n",
      "\u001B[36mFile \u001B[39m\u001B[32m~\\PycharmProjects\\SOLERwave\\.venv\\Lib\\site-packages\\sunpy\\coordinates\\_transformations.py:256\u001B[39m, in \u001B[36m_transformation_debug.<locals>.decorator.<locals>.wrapped_func\u001B[39m\u001B[34m(*args, **kwargs)\u001B[39m\n\u001B[32m    253\u001B[39m     \u001B[38;5;66;03m# Increment the layer level to increase the indentation for nested transformations\u001B[39;00m\n\u001B[32m    254\u001B[39m     _layer_level += \u001B[32m1\u001B[39m\n\u001B[32m--> \u001B[39m\u001B[32m256\u001B[39m result = \u001B[43mfunc\u001B[49m\u001B[43m(\u001B[49m\u001B[43m*\u001B[49m\u001B[43margs\u001B[49m\u001B[43m,\u001B[49m\u001B[43m \u001B[49m\u001B[43m*\u001B[49m\u001B[43m*\u001B[49m\u001B[43mkwargs\u001B[49m\u001B[43m)\u001B[49m\n\u001B[32m    258\u001B[39m \u001B[38;5;28;01mif\u001B[39;00m debug_output:\n\u001B[32m    259\u001B[39m     \u001B[38;5;66;03m# Decrement the layer level\u001B[39;00m\n\u001B[32m    260\u001B[39m     _layer_level -= \u001B[32m1\u001B[39m\n",
      "\u001B[36mFile \u001B[39m\u001B[32m~\\PycharmProjects\\SOLERwave\\.venv\\Lib\\site-packages\\sunpy\\coordinates\\_transformations.py:807\u001B[39m, in \u001B[36mhgs_to_hgs\u001B[39m\u001B[34m(from_coo, to_frame)\u001B[39m\n\u001B[32m    805\u001B[39m \u001B[38;5;28;01melse\u001B[39;00m:\n\u001B[32m    806\u001B[39m     \u001B[38;5;28;01mif\u001B[39;00m _autoapply_diffrot:\n\u001B[32m--> \u001B[39m\u001B[32m807\u001B[39m         from_coo = \u001B[43mfrom_coo\u001B[49m\u001B[43m.\u001B[49m\u001B[43m_apply_diffrot\u001B[49m\u001B[43m(\u001B[49m\u001B[43m(\u001B[49m\u001B[43mto_frame\u001B[49m\u001B[43m.\u001B[49m\u001B[43mobstime\u001B[49m\u001B[43m \u001B[49m\u001B[43m-\u001B[49m\u001B[43m \u001B[49m\u001B[43mfrom_coo\u001B[49m\u001B[43m.\u001B[49m\u001B[43mobstime\u001B[49m\u001B[43m)\u001B[49m\u001B[43m.\u001B[49m\u001B[43mto\u001B[49m\u001B[43m(\u001B[49m\u001B[33;43m'\u001B[39;49m\u001B[33;43mday\u001B[39;49m\u001B[33;43m'\u001B[39;49m\u001B[43m)\u001B[49m\u001B[43m,\u001B[49m\n\u001B[32m    808\u001B[39m \u001B[43m                                           \u001B[49m\u001B[43m_autoapply_diffrot\u001B[49m\u001B[43m)\u001B[49m\n\u001B[32m    809\u001B[39m     \u001B[38;5;28;01mreturn\u001B[39;00m from_coo.transform_to(HCRS(obstime=to_frame.obstime)).transform_to(to_frame)\n",
      "\u001B[36mFile \u001B[39m\u001B[32m~\\PycharmProjects\\SOLERwave\\.venv\\Lib\\site-packages\\sunpy\\coordinates\\frames.py:280\u001B[39m, in \u001B[36mHeliographicStonyhurst._apply_diffrot\u001B[39m\u001B[34m(self, duration, rotation_model)\u001B[39m\n\u001B[32m    279\u001B[39m \u001B[38;5;28;01mdef\u001B[39;00m\u001B[38;5;250m \u001B[39m\u001B[34m_apply_diffrot\u001B[39m(\u001B[38;5;28mself\u001B[39m, duration, rotation_model):\n\u001B[32m--> \u001B[39m\u001B[32m280\u001B[39m     oldrepr = \u001B[38;5;28;43mself\u001B[39;49m\u001B[43m.\u001B[49m\u001B[43mspherical\u001B[49m\n\u001B[32m    282\u001B[39m     \u001B[38;5;28;01mfrom\u001B[39;00m\u001B[38;5;250m \u001B[39m\u001B[34;01msunpy\u001B[39;00m\u001B[34;01m.\u001B[39;00m\u001B[34;01msun\u001B[39;00m\u001B[34;01m.\u001B[39;00m\u001B[34;01mmodels\u001B[39;00m\u001B[38;5;250m \u001B[39m\u001B[38;5;28;01mimport\u001B[39;00m differential_rotation\n\u001B[32m    283\u001B[39m     log.debug(\u001B[33mf\u001B[39m\u001B[33m\"\u001B[39m\u001B[33mApplying \u001B[39m\u001B[38;5;132;01m{\u001B[39;00mduration\u001B[38;5;132;01m}\u001B[39;00m\u001B[33m of solar rotation\u001B[39m\u001B[33m\"\u001B[39m)\n",
      "\u001B[36mFile \u001B[39m\u001B[32m~\\PycharmProjects\\SOLERwave\\.venv\\Lib\\site-packages\\astropy\\coordinates\\baseframe.py:2157\u001B[39m, in \u001B[36mBaseCoordinateFrame.spherical\u001B[39m\u001B[34m(self)\u001B[39m\n\u001B[32m   2151\u001B[39m \u001B[38;5;250m\u001B[39m\u001B[33;03m\"\"\"\u001B[39;00m\n\u001B[32m   2152\u001B[39m \u001B[33;03mShorthand for a spherical representation of the coordinates in this\u001B[39;00m\n\u001B[32m   2153\u001B[39m \u001B[33;03mobject.\u001B[39;00m\n\u001B[32m   2154\u001B[39m \u001B[33;03m\"\"\"\u001B[39;00m\n\u001B[32m   2155\u001B[39m \u001B[38;5;66;03m# TODO: if representations are updated to use a full transform graph,\u001B[39;00m\n\u001B[32m   2156\u001B[39m \u001B[38;5;66;03m#       the representation aliases should not be hard-coded like this\u001B[39;00m\n\u001B[32m-> \u001B[39m\u001B[32m2157\u001B[39m \u001B[38;5;28;01mreturn\u001B[39;00m \u001B[38;5;28;43mself\u001B[39;49m\u001B[43m.\u001B[49m\u001B[43mrepresent_as\u001B[49m\u001B[43m(\u001B[49m\u001B[33;43m\"\u001B[39;49m\u001B[33;43mspherical\u001B[39;49m\u001B[33;43m\"\u001B[39;49m\u001B[43m,\u001B[49m\u001B[43m \u001B[49m\u001B[43min_frame_units\u001B[49m\u001B[43m=\u001B[49m\u001B[38;5;28;43;01mTrue\u001B[39;49;00m\u001B[43m)\u001B[49m\n",
      "\u001B[36mFile \u001B[39m\u001B[32m~\\PycharmProjects\\SOLERwave\\.venv\\Lib\\site-packages\\sunpy\\coordinates\\frames.py:159\u001B[39m, in \u001B[36mSunPyBaseCoordinateFrame.represent_as\u001B[39m\u001B[34m(self, base, s, in_frame_units)\u001B[39m\n\u001B[32m    158\u001B[39m \u001B[38;5;28;01mdef\u001B[39;00m\u001B[38;5;250m \u001B[39m\u001B[34mrepresent_as\u001B[39m(\u001B[38;5;28mself\u001B[39m, base, s=\u001B[33m'\u001B[39m\u001B[33mbase\u001B[39m\u001B[33m'\u001B[39m, in_frame_units=\u001B[38;5;28;01mFalse\u001B[39;00m):\n\u001B[32m--> \u001B[39m\u001B[32m159\u001B[39m     data = \u001B[38;5;28;43msuper\u001B[39;49m\u001B[43m(\u001B[49m\u001B[43m)\u001B[49m\u001B[43m.\u001B[49m\u001B[43mrepresent_as\u001B[49m\u001B[43m(\u001B[49m\u001B[43mbase\u001B[49m\u001B[43m,\u001B[49m\u001B[43m \u001B[49m\u001B[43ms\u001B[49m\u001B[43m,\u001B[49m\u001B[43m \u001B[49m\u001B[43min_frame_units\u001B[49m\u001B[43m=\u001B[49m\u001B[43min_frame_units\u001B[49m\u001B[43m)\u001B[49m\n\u001B[32m    161\u001B[39m     \u001B[38;5;66;03m# If a frame wrap angle is set, use that wrap angle for any spherical representations.\u001B[39;00m\n\u001B[32m    162\u001B[39m     \u001B[38;5;28;01mif\u001B[39;00m \u001B[38;5;28mself\u001B[39m._wrap_angle \u001B[38;5;129;01mis\u001B[39;00m \u001B[38;5;129;01mnot\u001B[39;00m \u001B[38;5;28;01mNone\u001B[39;00m \u001B[38;5;129;01mand\u001B[39;00m \\\n\u001B[32m    163\u001B[39m        \u001B[38;5;28misinstance\u001B[39m(data, UnitSphericalRepresentation | SphericalRepresentation):\n",
      "\u001B[36mFile \u001B[39m\u001B[32m~\\PycharmProjects\\SOLERwave\\.venv\\Lib\\site-packages\\astropy\\coordinates\\baseframe.py:1387\u001B[39m, in \u001B[36mBaseCoordinateFrame.represent_as\u001B[39m\u001B[34m(self, base, s, in_frame_units)\u001B[39m\n\u001B[32m   1385\u001B[39m         \u001B[38;5;28;01mif\u001B[39;00m new_attr_unit:\n\u001B[32m   1386\u001B[39m             datakwargs[comp] = datakwargs[comp].to(new_attr_unit)\n\u001B[32m-> \u001B[39m\u001B[32m1387\u001B[39m     data = \u001B[43mdata\u001B[49m\u001B[43m.\u001B[49m\u001B[34;43m__class__\u001B[39;49m\u001B[43m(\u001B[49m\u001B[43mcopy\u001B[49m\u001B[43m=\u001B[49m\u001B[38;5;28;43;01mFalse\u001B[39;49;00m\u001B[43m,\u001B[49m\u001B[43m \u001B[49m\u001B[43m*\u001B[49m\u001B[43m*\u001B[49m\u001B[43mdatakwargs\u001B[49m\u001B[43m)\u001B[49m\n\u001B[32m   1389\u001B[39m \u001B[38;5;28;01mif\u001B[39;00m differential_cls:\n\u001B[32m   1390\u001B[39m     \u001B[38;5;66;03m# the original differential\u001B[39;00m\n\u001B[32m   1391\u001B[39m     data_diff = \u001B[38;5;28mself\u001B[39m.data.differentials[\u001B[33m\"\u001B[39m\u001B[33ms\u001B[39m\u001B[33m\"\u001B[39m]\n",
      "\u001B[36mFile \u001B[39m\u001B[32m~\\PycharmProjects\\SOLERwave\\.venv\\Lib\\site-packages\\astropy\\coordinates\\representation\\spherical.py:453\u001B[39m, in \u001B[36mSphericalRepresentation.__init__\u001B[39m\u001B[34m(self, lon, lat, distance, differentials, copy)\u001B[39m\n\u001B[32m    452\u001B[39m \u001B[38;5;28;01mdef\u001B[39;00m\u001B[38;5;250m \u001B[39m\u001B[34m__init__\u001B[39m(\u001B[38;5;28mself\u001B[39m, lon, lat=\u001B[38;5;28;01mNone\u001B[39;00m, distance=\u001B[38;5;28;01mNone\u001B[39;00m, differentials=\u001B[38;5;28;01mNone\u001B[39;00m, copy=\u001B[38;5;28;01mTrue\u001B[39;00m):\n\u001B[32m--> \u001B[39m\u001B[32m453\u001B[39m     \u001B[38;5;28;43msuper\u001B[39;49m\u001B[43m(\u001B[49m\u001B[43m)\u001B[49m\u001B[43m.\u001B[49m\u001B[34;43m__init__\u001B[39;49m\u001B[43m(\u001B[49m\u001B[43mlon\u001B[49m\u001B[43m,\u001B[49m\u001B[43m \u001B[49m\u001B[43mlat\u001B[49m\u001B[43m,\u001B[49m\u001B[43m \u001B[49m\u001B[43mdistance\u001B[49m\u001B[43m,\u001B[49m\u001B[43m \u001B[49m\u001B[43mcopy\u001B[49m\u001B[43m=\u001B[49m\u001B[43mcopy\u001B[49m\u001B[43m,\u001B[49m\u001B[43m \u001B[49m\u001B[43mdifferentials\u001B[49m\u001B[43m=\u001B[49m\u001B[43mdifferentials\u001B[49m\u001B[43m)\u001B[49m\n\u001B[32m    454\u001B[39m     \u001B[38;5;28;01mif\u001B[39;00m (\n\u001B[32m    455\u001B[39m         \u001B[38;5;129;01mnot\u001B[39;00m \u001B[38;5;28misinstance\u001B[39m(\u001B[38;5;28mself\u001B[39m._distance, Distance)\n\u001B[32m    456\u001B[39m         \u001B[38;5;129;01mand\u001B[39;00m \u001B[38;5;28mself\u001B[39m._distance.unit.physical_type == \u001B[33m\"\u001B[39m\u001B[33mlength\u001B[39m\u001B[33m\"\u001B[39m\n\u001B[32m    457\u001B[39m     ):\n\u001B[32m    458\u001B[39m         \u001B[38;5;28;01mtry\u001B[39;00m:\n",
      "\u001B[36mFile \u001B[39m\u001B[32m~\\PycharmProjects\\SOLERwave\\.venv\\Lib\\site-packages\\astropy\\coordinates\\representation\\base.py:710\u001B[39m, in \u001B[36mBaseRepresentation.__init__\u001B[39m\u001B[34m(self, differentials, *args, **kwargs)\u001B[39m\n\u001B[32m    708\u001B[39m \u001B[38;5;28;01mdef\u001B[39;00m\u001B[38;5;250m \u001B[39m\u001B[34m__init__\u001B[39m(\u001B[38;5;28mself\u001B[39m, *args, differentials=\u001B[38;5;28;01mNone\u001B[39;00m, **kwargs):\n\u001B[32m    709\u001B[39m     \u001B[38;5;66;03m# Handle any differentials passed in.\u001B[39;00m\n\u001B[32m--> \u001B[39m\u001B[32m710\u001B[39m     \u001B[38;5;28;43msuper\u001B[39;49m\u001B[43m(\u001B[49m\u001B[43m)\u001B[49m\u001B[43m.\u001B[49m\u001B[34;43m__init__\u001B[39;49m\u001B[43m(\u001B[49m\u001B[43m*\u001B[49m\u001B[43margs\u001B[49m\u001B[43m,\u001B[49m\u001B[43m \u001B[49m\u001B[43m*\u001B[49m\u001B[43m*\u001B[49m\u001B[43mkwargs\u001B[49m\u001B[43m)\u001B[49m\n\u001B[32m    711\u001B[39m     \u001B[38;5;28;01mif\u001B[39;00m differentials \u001B[38;5;129;01mis\u001B[39;00m \u001B[38;5;28;01mNone\u001B[39;00m \u001B[38;5;129;01mand\u001B[39;00m args \u001B[38;5;129;01mand\u001B[39;00m \u001B[38;5;28misinstance\u001B[39m(args[\u001B[32m0\u001B[39m], \u001B[38;5;28mself\u001B[39m.\u001B[34m__class__\u001B[39m):\n\u001B[32m    712\u001B[39m         differentials = args[\u001B[32m0\u001B[39m]._differentials\n",
      "\u001B[36mFile \u001B[39m\u001B[32m~\\PycharmProjects\\SOLERwave\\.venv\\Lib\\site-packages\\astropy\\coordinates\\representation\\base.py:207\u001B[39m, in \u001B[36mBaseRepresentationOrDifferential.__init__\u001B[39m\u001B[34m(self, *args, **kwargs)\u001B[39m\n\u001B[32m    203\u001B[39m         \u001B[38;5;28;01mraise\u001B[39;00m \u001B[38;5;167;01mTypeError\u001B[39;00m(\u001B[33mf\u001B[39m\u001B[33m\"\u001B[39m\u001B[33munexpected keyword arguments: \u001B[39m\u001B[38;5;132;01m{\u001B[39;00mkwargs\u001B[38;5;132;01m}\u001B[39;00m\u001B[33m\"\u001B[39m)\n\u001B[32m    205\u001B[39m \u001B[38;5;66;03m# Pass attributes through the required initializing classes.\u001B[39;00m\n\u001B[32m    206\u001B[39m attrs = [\n\u001B[32m--> \u001B[39m\u001B[32m207\u001B[39m     \u001B[38;5;28;43mself\u001B[39;49m\u001B[43m.\u001B[49m\u001B[43mattr_classes\u001B[49m\u001B[43m[\u001B[49m\u001B[43mcomponent\u001B[49m\u001B[43m]\u001B[49m\u001B[43m(\u001B[49m\u001B[43mattr\u001B[49m\u001B[43m,\u001B[49m\u001B[43m \u001B[49m\u001B[43mcopy\u001B[49m\u001B[43m=\u001B[49m\u001B[43mcopy\u001B[49m\u001B[43m,\u001B[49m\u001B[43m \u001B[49m\u001B[43msubok\u001B[49m\u001B[43m=\u001B[49m\u001B[38;5;28;43;01mTrue\u001B[39;49;00m\u001B[43m)\u001B[49m\n\u001B[32m    208\u001B[39m     \u001B[38;5;28;01mfor\u001B[39;00m component, attr \u001B[38;5;129;01min\u001B[39;00m \u001B[38;5;28mzip\u001B[39m(components, attrs)\n\u001B[32m    209\u001B[39m ]\n\u001B[32m    210\u001B[39m \u001B[38;5;28;01mtry\u001B[39;00m:\n\u001B[32m    211\u001B[39m     bc_attrs = np.broadcast_arrays(*attrs, subok=\u001B[38;5;28;01mTrue\u001B[39;00m)\n",
      "\u001B[36mFile \u001B[39m\u001B[32m~\\PycharmProjects\\SOLERwave\\.venv\\Lib\\site-packages\\astropy\\coordinates\\angles\\core.py:597\u001B[39m, in \u001B[36mLatitude.__new__\u001B[39m\u001B[34m(cls, angle, unit, **kwargs)\u001B[39m\n\u001B[32m    595\u001B[39m     \u001B[38;5;28;01mraise\u001B[39;00m \u001B[38;5;167;01mTypeError\u001B[39;00m(\u001B[33m\"\u001B[39m\u001B[33mA Latitude angle cannot be created from a Longitude angle\u001B[39m\u001B[33m\"\u001B[39m)\n\u001B[32m    596\u001B[39m \u001B[38;5;28mself\u001B[39m = \u001B[38;5;28msuper\u001B[39m().\u001B[34m__new__\u001B[39m(\u001B[38;5;28mcls\u001B[39m, angle, unit=unit, **kwargs)\n\u001B[32m--> \u001B[39m\u001B[32m597\u001B[39m \u001B[38;5;28;43mself\u001B[39;49m\u001B[43m.\u001B[49m\u001B[43m_validate_angles\u001B[49m\u001B[43m(\u001B[49m\u001B[43m)\u001B[49m\n\u001B[32m    598\u001B[39m \u001B[38;5;28;01mreturn\u001B[39;00m \u001B[38;5;28mself\u001B[39m\n",
      "\u001B[36mFile \u001B[39m\u001B[32m~\\PycharmProjects\\SOLERwave\\.venv\\Lib\\site-packages\\astropy\\coordinates\\angles\\core.py:627\u001B[39m, in \u001B[36mLatitude._validate_angles\u001B[39m\u001B[34m(self, angles)\u001B[39m\n\u001B[32m    622\u001B[39m \u001B[38;5;28;01mif\u001B[39;00m NUMPY_LT_2_0:\n\u001B[32m    623\u001B[39m     \u001B[38;5;66;03m# Ensure ndim>=1 so that comparison is done using the angle dtype.\u001B[39;00m\n\u001B[32m    624\u001B[39m     \u001B[38;5;66;03m# Otherwise, e.g., np.array(np.pi/2, 'f4') > np.pi/2 will yield True.\u001B[39;00m\n\u001B[32m    625\u001B[39m     angles_view = angles_view[np.newaxis]\n\u001B[32m--> \u001B[39m\u001B[32m627\u001B[39m \u001B[38;5;28;01mif\u001B[39;00m np.any(\u001B[43mnp\u001B[49m\u001B[43m.\u001B[49m\u001B[43mabs\u001B[49m\u001B[43m(\u001B[49m\u001B[43mangles_view\u001B[49m\u001B[43m)\u001B[49m > limit):\n\u001B[32m    628\u001B[39m     \u001B[38;5;28;01mif\u001B[39;00m np.size(angles) < \u001B[32m5\u001B[39m:\n\u001B[32m    629\u001B[39m         \u001B[38;5;28;01mraise\u001B[39;00m \u001B[38;5;167;01mValueError\u001B[39;00m(\n\u001B[32m    630\u001B[39m             \u001B[33m\"\u001B[39m\u001B[33mLatitude angle(s) must be within -90 deg <= angle \u001B[39m\u001B[33m\"\u001B[39m\n\u001B[32m    631\u001B[39m             \u001B[33mf\u001B[39m\u001B[33m\"\u001B[39m\u001B[33m<= 90 deg, got \u001B[39m\u001B[38;5;132;01m{\u001B[39;00mangles.to(u.degree)\u001B[38;5;132;01m}\u001B[39;00m\u001B[33m\"\u001B[39m\n\u001B[32m    632\u001B[39m         )\n",
      "\u001B[31mKeyboardInterrupt\u001B[39m: "
     ]
    }
   ],
   "execution_count": 1
  },
  {
   "metadata": {},
   "cell_type": "markdown",
   "source": [
    "After the creation of the folder structure the Data has to be stored in the Input_Fits folder.\n",
    "\n",
    "To create preprocessed fits files, the create_preprocessed_input needs to be called. It requires a few additional input:\n",
    "- The path_LVL_0 which was printed as a result of the create_folder_structure function\n",
    "- path_LVL_1_0 which is generated in the cell already, no change needed there\n",
    "- The base and end image. It is created in this cell as the first and last file in the input folder when they were sorted $^1$\n",
    "- binning: default 1\n",
    "- min_exposure_time: is only useful for AIA data, default 1 second, !! Change to None otherwise!!\n",
    "- Instrument name: only needed in case of Kanzelhoehe Data, then 'ha2'\n",
    "\n",
    "\n",
    "Note: $^1$ The create_preprocessed_inputs again sorts all files in Input_fits and uses all files between where the name matches base_image_name and end_image_name for the preprocessing"
   ],
   "id": "e72262b987a7b547"
  },
  {
   "metadata": {},
   "cell_type": "code",
   "outputs": [],
   "execution_count": null,
   "source": [
    "path_LVL_0 = 'Data_folder/SOLERwave_2011-09-06T22_20_02AIA_211AA'\n",
    "\n",
    "path_LVL_1_0 = os.path.join(path_LVL_0, 'Input_Fits')\n",
    "\n",
    "base_image_name = sorted(os.listdir(path_LVL_1_0))[0]\n",
    "end_image_name = sorted(os.listdir(path_LVL_1_0))[-1]\n",
    "\n",
    "create_preprocessed_input(path_LVL_0, path_LVL_1_0, base_image_name, end_image_name, binning=1,min_exposure_time=1, Instrument_Name='aia')\n",
    "\n",
    "print('LVL_0_directory: ' + path_LVL_0)"
   ],
   "id": "ce5064e9e237e3ac"
  }
 ],
 "metadata": {
  "kernelspec": {
   "display_name": "Python 3",
   "language": "python",
   "name": "python3"
  },
  "language_info": {
   "codemirror_mode": {
    "name": "ipython",
    "version": 2
   },
   "file_extension": ".py",
   "mimetype": "text/x-python",
   "name": "python",
   "nbconvert_exporter": "python",
   "pygments_lexer": "ipython2",
   "version": "2.7.6"
  }
 },
 "nbformat": 4,
 "nbformat_minor": 5
}
