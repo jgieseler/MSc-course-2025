{
 "cells": [
  {
   "metadata": {},
   "cell_type": "markdown",
   "source": "",
   "id": "3e0ab95eb9adbb05"
  },
  {
   "metadata": {
    "ExecuteTime": {
     "end_time": "2025-03-18T14:01:58.721613Z",
     "start_time": "2025-03-18T14:01:19.458868Z"
    }
   },
   "cell_type": "code",
   "source": [
    "try:\n",
    "    import sunpy\n",
    "except ImportError:\n",
    "    %pip install \"sunpy[all]\"\n",
    "\n",
    "try:\n",
    "    import numpy\n",
    "except ImportError:\n",
    "    %pip install numpy\n",
    "    \n",
    "try:\n",
    "    import astropy\n",
    "except ImportError:\n",
    "    %pip install astropy\n",
    "    \n",
    "try:\n",
    "    import numba\n",
    "except ImportError:\n",
    "    %pip install numba\n",
    "    \n",
    "try:\n",
    "    import moviepy\n",
    "except ImportError:\n",
    "    %pip install moviepy"
   ],
   "id": "99c2db648da41778",
   "outputs": [
    {
     "name": "stdout",
     "output_type": "stream",
     "text": [
      "Collecting numba\n",
      "  Obtaining dependency information for numba from https://files.pythonhosted.org/packages/94/4f/8357a99a14f331b865a42cb4756ae37da85599b9c95e01277ea10361e91a/numba-0.61.0-cp312-cp312-win_amd64.whl.metadata\n",
      "  Using cached numba-0.61.0-cp312-cp312-win_amd64.whl.metadata (2.8 kB)\n",
      "Requirement already satisfied: llvmlite<0.45,>=0.44.0dev0 in c:\\users\\baumgama\\pycharmprojects\\solerwave\\.venv\\lib\\site-packages (from numba) (0.44.0)\n",
      "Requirement already satisfied: numpy<2.2,>=1.24 in c:\\users\\baumgama\\pycharmprojects\\solerwave\\.venv\\lib\\site-packages (from numba) (2.1.3)\n",
      "Using cached numba-0.61.0-cp312-cp312-win_amd64.whl (2.8 MB)\n",
      "Installing collected packages: numba\n",
      "Successfully installed numba-0.61.0\n",
      "Note: you may need to restart the kernel to use updated packages.\n"
     ]
    },
    {
     "name": "stderr",
     "output_type": "stream",
     "text": [
      "\n",
      "[notice] A new release of pip is available: 23.2.1 -> 25.0.1\n",
      "[notice] To update, run: python.exe -m pip install --upgrade pip\n"
     ]
    }
   ],
   "execution_count": 1
  },
  {
   "metadata": {},
   "cell_type": "code",
   "outputs": [],
   "execution_count": null,
   "source": "",
   "id": "e882d166b957e2ad"
  }
 ],
 "metadata": {
  "kernelspec": {
   "display_name": "Python 3",
   "language": "python",
   "name": "python3"
  },
  "language_info": {
   "codemirror_mode": {
    "name": "ipython",
    "version": 2
   },
   "file_extension": ".py",
   "mimetype": "text/x-python",
   "name": "python",
   "nbconvert_exporter": "python",
   "pygments_lexer": "ipython2",
   "version": "2.7.6"
  }
 },
 "nbformat": 4,
 "nbformat_minor": 5
}
